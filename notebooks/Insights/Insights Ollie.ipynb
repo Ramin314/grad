{
 "cells": [
  {
   "cell_type": "markdown",
   "metadata": {},
   "source": [
    "# Insights from text analysis\n",
    "\n",
    "This section summarised the interesting insights from analysising the text data. The most interesting insights were gained from answering the question: can we gain an insight into how quickly a video will begin to trend from the text attributes of the dataset?\n",
    "\n",
    "However we should first ask: why do we care how long it takes for my video to begin trending?\n",
    "\n",
    "The answer to this is: because the longer it takes, the less likey it is that your video will trend at all. This is apprent just by looking at the number of videos which trend as a function of time taken until the video goes trending:"
   ]
  },
  {
   "cell_type": "code",
   "execution_count": 7,
   "metadata": {},
   "outputs": [],
   "source": [
    "import pandas as pd\n",
    "import numpy as np\n",
    "import matplotlib.pyplot as plt"
   ]
  },
  {
   "cell_type": "code",
   "execution_count": 9,
   "metadata": {},
   "outputs": [
    {
     "data": {
      "image/png": "[encoded data removed]",
      "text/plain": [
       "<Figure size 432x288 with 1 Axes>"
      ]
     },
     "metadata": {
      "needs_background": "light"
     },
     "output_type": "display_data"
    },
    {
     "name": "stdout",
     "output_type": "stream",
     "text": [
      "Number videos trending after 0 days: 2065\n",
      "Number videos trending after 1 days: 21015\n",
      "Number videos trending after 2 days: 3991\n",
      "Number videos trending after 3 days: 1116\n",
      "Number videos trending after 4 days: 583\n",
      "Number videos trending after 5 days: 362\n",
      "Number videos trending after 6 days: 212\n",
      "Number videos trending after 7 days: 158\n",
      "Number videos trending after 8 days: 97\n",
      "Number videos trending after 9 days: 89\n"
     ]
    }
   ],
   "source": [
    "data = pd.read_csv('../../data/data.csv') #load a cleaned and processed dataset. \n",
    "data = data.drop_duplicates(subset='video_id',keep='first').reset_index(drop=True) #only take initial instances\n",
    "#Visualise the distribution of times taken to begin trending \n",
    "\n",
    "fig = plt.figure()\n",
    "times = data['days_till_trending']\n",
    "times_truncated = times.values[np.where(times<30)]\n",
    "plt.hist(times_truncated,facecolor='moccasin',bins=20,ec='darkorange')\n",
    "plt.xlabel('Days until trending (<30 days)')\n",
    "plt.ylabel('Count')\n",
    "plt.tight_layout()\n",
    "plt.show()\n",
    "\n",
    "for i in range(10):\n",
    "    days = data[data['days_till_trending']==i]\n",
    "    print('Number videos trending after '+str(i)+' days:', days.shape[0])"
   ]
  },
  {
   "cell_type": "markdown",
   "metadata": {},
   "source": [
    "We can can see that beyond 1 day, the number of videos which go trending decreases rapidly. This shows that __the probability of your video trending falls as time progresses past 1 day__. "
   ]
  },
  {
   "cell_type": "markdown",
   "metadata": {},
   "source": [
    "### What does the text tell us about trending times?"
   ]
  },
  {
   "cell_type": "markdown",
   "metadata": {},
   "source": [
    "We developed a method to identify sets of words which may help a video to trend quickly (see Task 2 of the section 'Text analysis of YouTube dataset' in the Research notebook, for details). This method was applied to the titles of videos in the entertainment category for videos in the GB, US and CA data sets. \n",
    "\n",
    "We identified a set of 30 words which occur more frequently in the titles of videos that trend on the same day of posting, compared to in the titles of videos which do not trend on the same day of posting. The set of words is:\n",
    "\n",
    "'2018', 'episode', 'season', 'promo', '2017', 'live', 'idol', 'american', 'voice', 'finale', 'flash', 'trailer', 'girls', 'tlmep', 'video', 'iphone', 'super', 'recap', 'monologue', 'paul', 'logan', 'chicken', 'official', 'america', 'annie', 'hayden', 'show', 'series', 'extended', 'love'\n",
    "\n",
    "\n",
    "We can idenfity some known TV shows and people in this set:\n",
    " - American Idol (TV show)\n",
    " - Logan Paul (Youtuber)\n",
    " - Annie & Hayden (likely relates to two, famous US child actors with millions of instagram followers, who 'broke-up' in 2018).\n",
    " \n",
    "And words which relate to TV and film in general:\n",
    " - Episode\n",
    " - Season\n",
    " - Promo \n",
    " - Official \n",
    " - Trailer \n",
    " - Series\n",
    " - Video\n",
    "\n",
    "1. From this data set it seems that in the Entertainment category, __promo videos and trailers__ trend on the day they are posted.\n",
    "2. The appreance of 'Official' suggests that __people look for authenticity__ with their videos. You can imagine this would occur in phrases such as 'Official Trailer' and 'Official Promo'.\n",
    "3. The appearance of '2018' and '2017' suggests that __people look for the most current version__ of specific videos.\n",
    "3. It suggests that American idol is the most popular show in the category and the audience engages with new videos on the day of posting.\n",
    "4. Celebrities may trend quickly. Logan Paul is often known to be controversial, this suggests that __controversy could cause videos to begin trending faster__. Also a google search of Annie Hayden brings up multiple hits relating to the break-up of the two US actors mentioned above. This suggests that __celebrity 'gossip' also trends quickly__.\n",
    "5. __iPhone announcments trend quickly__, which may be expected since Apple is known to have a dedicated customer base. The occurance of 'iphone' could relate to the announcement of the release of the iPhone XS, XS Max and XR in 2018. "
   ]
  },
  {
   "cell_type": "markdown",
   "metadata": {},
   "source": [
    "### Conclusion"
   ]
  },
  {
   "cell_type": "markdown",
   "metadata": {},
   "source": [
    " - Including the word 'official' may make your videos trend faster, however you may not have the right to do this if you are not really the official publisher!\n",
    " - Try including the the year, this is most likely relavent to people who publish compliation videos. For example, 'Game compilations 2018' may trend faster than simply 'Game compilations'.\n",
    " - There is a suggestion that people enjoy celebrity gossip. Try covering celebrities if you want your videos to trend quickly.\n",
    " - Talk about iPhones: iPhone was a commonly occuring word in fast trending videos. It is unlikely all of these videos are official apple announcements, so some must be other people discussing iPhone, and these videos also appear to trend quickly. \n",
    " \n",
    "__Note__, we do expect that there will be other external influences which will be powerful factors determining how quickly a video trends on Youtube. An obvious factor is whether or not a topic related to a video is already trending on social media. Because we expect external factors to be important, the insights from the text analysis are not given; including 'official 2018' in your video title does not guarantee that your video will trend immediately. "
   ]
  },
  {
   "cell_type": "code",
   "execution_count": null,
   "metadata": {},
   "outputs": [],
   "source": []
  }
 ],
 "metadata": {
  "kernelspec": {
   "display_name": "Python 3",
   "language": "python",
   "name": "python3"
  },
  "language_info": {
   "codemirror_mode": {
    "name": "ipython",
    "version": 3
   },
   "file_extension": ".py",
   "mimetype": "text/x-python",
   "name": "python",
   "nbconvert_exporter": "python",
   "pygments_lexer": "ipython3",
   "version": "3.7.4"
  }
 },
 "nbformat": 4,
 "nbformat_minor": 2
}
