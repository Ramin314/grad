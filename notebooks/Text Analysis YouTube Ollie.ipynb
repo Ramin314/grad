{
 "cells": [
  {
   "cell_type": "markdown",
   "metadata": {},
   "source": [
    "# Text analysis of YouTube dataset\n",
    "\n",
    "***\n",
    "\n",
    "## Task: can we find a set of words which are common to videos which begin trending fast, but not common to videos which are slow to begin trending? \n",
    "\n",
    "### Motivation: If we can find a set of words which distinguishes videos which begin trending quickly compared to those which begin trending slowly, we could suggest adding certain words to your title/tags/descriptions to increase the probability of your video trending quickly.\n",
    "\n",
    "### Strategy:\n",
    " - Consider all UK, CA and US datasets. \n",
    " - Consider categories separately.\n",
    " - Calculate time between publication of a video and when it first begins to trend.\n",
    " - Take the subset of quickest to trending videos. For example, those which trend the same day as posting or the next day.\n",
    " - Find which words are most common to the titles/tag/description (document) of the quickest to trend videos. That is, find which words occur in the most documents in the subset, not how many times a word occurs in a given document.\n",
    " - Rank these words from most common to least common. Then choose the first n words, there are our n most common words common to the quickest to trending videos. \n",
    " - Calculate the 'combined' term frequency of our n common words in each document in the subset of quickest to trending videos. This is: (the number of occurances of any word from the set of common words in the document) / (the number of words in the document).\n",
    " - Calculate the combined term frequency of our n common words in each document in the remaining videos, that is the slow to trending videos, those which take longer than 1 day to go trending, for example.\n",
    " - Compare the distribution of combined term frequencies in the quickest to trending videos to the the distribution of combined term frequencies in the slow to trending videos, by a t-test. \n",
    " - If the the difference between the mean value of the combined term frequencies is statistically significant (and ralatively large), we will have identified a set of words which is common to douments describing the quickest to trending videos but not in the others. \n",
    " \n",
    " ***"
   ]
  },
  {
   "cell_type": "markdown",
   "metadata": {},
   "source": [
    "#### Load and organise data"
   ]
  },
  {
   "cell_type": "code",
   "execution_count": 286,
   "metadata": {},
   "outputs": [],
   "source": [
    "import pandas as pd\n",
    "import numpy as np\n",
    "import matplotlib.pyplot as plt\n",
    "import json\n",
    "\n",
    "import re\n",
    "import string\n",
    "import nltk\n",
    "from nltk.corpus import stopwords\n",
    "\n",
    "from sklearn.feature_extraction.text import CountVectorizer"
   ]
  },
  {
   "cell_type": "code",
   "execution_count": 222,
   "metadata": {},
   "outputs": [],
   "source": [
    "gb = pd.read_csv('GBvideos.csv')\n",
    "ca = pd.read_csv('CAvideos.csv')\n",
    "us = pd.read_csv('USvideos.csv')\n",
    "\n",
    "#Extract categories from json files\n",
    "with open(\"GB_category_id.json\") as f:\n",
    "    categories = json.load(f)[\"items\"]\n",
    "cat_dict = {}\n",
    "for cat in categories:\n",
    "    cat_dict[int(cat[\"id\"])] = cat[\"snippet\"][\"title\"]\n",
    "gb['category_name'] = gb['category_id'].map(cat_dict)\n",
    "\n",
    "\n",
    "with open(\"CA_category_id.json\") as f:\n",
    "    categories = json.load(f)[\"items\"]\n",
    "cat_dict = {}\n",
    "for cat in categories:\n",
    "    cat_dict[int(cat[\"id\"])] = cat[\"snippet\"][\"title\"]\n",
    "ca['category_name'] = ca['category_id'].map(cat_dict)\n",
    "\n",
    "\n",
    "with open(\"US_category_id.json\") as f:\n",
    "    categories = json.load(f)[\"items\"]\n",
    "cat_dict = {}\n",
    "for cat in categories:\n",
    "    cat_dict[int(cat[\"id\"])] = cat[\"snippet\"][\"title\"]\n",
    "us['category_name'] = us['category_id'].map(cat_dict)"
   ]
  },
  {
   "cell_type": "code",
   "execution_count": 223,
   "metadata": {},
   "outputs": [],
   "source": [
    "'''Create column which keeps track of country after merging datasets.\n",
    "We can map integers to the strings representing the countrys by \n",
    "representing them as enumerations.'''\n",
    "\n",
    "from enum import Enum\n",
    "class Country(Enum):\n",
    "    gb = 0\n",
    "    ca = 1\n",
    "    us = 2\n",
    "    \n",
    "gb['country'] = Country(0)\n",
    "ca['country'] = Country(1)\n",
    "us['country'] = Country(2)"
   ]
  },
  {
   "cell_type": "code",
   "execution_count": 224,
   "metadata": {},
   "outputs": [
    {
     "name": "stdout",
     "output_type": "stream",
     "text": [
      "(38916, 18)\n",
      "(40949, 18)\n",
      "(40881, 18)\n"
     ]
    }
   ],
   "source": [
    "print(gb.shape)\n",
    "print(us.shape)\n",
    "print(ca.shape)"
   ]
  },
  {
   "cell_type": "code",
   "execution_count": 225,
   "metadata": {},
   "outputs": [
    {
     "name": "stdout",
     "output_type": "stream",
     "text": [
      "(120746, 18)\n"
     ]
    }
   ],
   "source": [
    "data = pd.concat([gb,ca,us],axis=0).reset_index(drop=True) #drop=True stops Pandas from adding old indexes as a new column\n",
    "print(data.shape)"
   ]
  },
  {
   "cell_type": "code",
   "execution_count": 226,
   "metadata": {},
   "outputs": [
    {
     "name": "stdout",
     "output_type": "stream",
     "text": [
      "<class 'pandas.core.frame.DataFrame'>\n",
      "RangeIndex: 120746 entries, 0 to 120745\n",
      "Data columns (total 18 columns):\n",
      "video_id                  120746 non-null object\n",
      "trending_date             120746 non-null object\n",
      "title                     120746 non-null object\n",
      "channel_title             120746 non-null object\n",
      "category_id               120746 non-null int64\n",
      "publish_time              120746 non-null object\n",
      "tags                      120746 non-null object\n",
      "views                     120746 non-null int64\n",
      "likes                     120746 non-null int64\n",
      "dislikes                  120746 non-null int64\n",
      "comment_count             120746 non-null int64\n",
      "thumbnail_link            120746 non-null object\n",
      "comments_disabled         120746 non-null bool\n",
      "ratings_disabled          120746 non-null bool\n",
      "video_error_or_removed    120746 non-null bool\n",
      "description               118268 non-null object\n",
      "category_name             120582 non-null object\n",
      "country                   120746 non-null object\n",
      "dtypes: bool(3), int64(5), object(10)\n",
      "memory usage: 14.2+ MB\n",
      "None\n"
     ]
    }
   ],
   "source": [
    "print(data.info())"
   ]
  },
  {
   "cell_type": "markdown",
   "metadata": {},
   "source": [
    "__Note__ some decriptions and categories are missing. "
   ]
  },
  {
   "cell_type": "code",
   "execution_count": 227,
   "metadata": {},
   "outputs": [
    {
     "data": {
      "image/png": "[encoded data removed]",
      "text/plain": [
       "<Figure size 432x288 with 1 Axes>"
      ]
     },
     "metadata": {
      "needs_background": "light"
     },
     "output_type": "display_data"
    }
   ],
   "source": [
    "'''Create bar chart to see which countries have largest\n",
    "number of trending videos in combined dataset.\n",
    "\n",
    "Note that each country has different categories so the total\n",
    "number of categories here is different to the amount of \n",
    "categories in the individual data sets.'''\n",
    "\n",
    "category_counts= data['category_name'].value_counts()\n",
    "fig = plt.figure()\n",
    "category_counts.plot.bar()\n",
    "plt.show()"
   ]
  },
  {
   "cell_type": "markdown",
   "metadata": {},
   "source": [
    "#### Calculate the time between publication and trending\n",
    "\n",
    "First step is to filter out duplicate instances, and keep only first instance of each video, when it began trending."
   ]
  },
  {
   "cell_type": "code",
   "execution_count": 228,
   "metadata": {},
   "outputs": [],
   "source": [
    "data = data.drop_duplicates(subset='video_id',keep='first').reset_index(drop=True)"
   ]
  },
  {
   "cell_type": "code",
   "execution_count": 229,
   "metadata": {},
   "outputs": [
    {
     "name": "stdout",
     "output_type": "stream",
     "text": [
      "<class 'pandas.core.frame.DataFrame'>\n",
      "RangeIndex: 30318 entries, 0 to 30317\n",
      "Data columns (total 18 columns):\n",
      "video_id                  30318 non-null object\n",
      "trending_date             30318 non-null object\n",
      "title                     30318 non-null object\n",
      "channel_title             30318 non-null object\n",
      "category_id               30318 non-null int64\n",
      "publish_time              30318 non-null object\n",
      "tags                      30318 non-null object\n",
      "views                     30318 non-null int64\n",
      "likes                     30318 non-null int64\n",
      "dislikes                  30318 non-null int64\n",
      "comment_count             30318 non-null int64\n",
      "thumbnail_link            30318 non-null object\n",
      "comments_disabled         30318 non-null bool\n",
      "ratings_disabled          30318 non-null bool\n",
      "video_error_or_removed    30318 non-null bool\n",
      "description               29227 non-null object\n",
      "category_name             30264 non-null object\n",
      "country                   30318 non-null object\n",
      "dtypes: bool(3), int64(5), object(10)\n",
      "memory usage: 3.6+ MB\n",
      "None\n"
     ]
    }
   ],
   "source": [
    "print(data.info())"
   ]
  },
  {
   "cell_type": "code",
   "execution_count": 230,
   "metadata": {},
   "outputs": [],
   "source": [
    "'''The datetime packages allows us to conventiatly do arithmetic with date objects.'''\n",
    "from datetime import date"
   ]
  },
  {
   "cell_type": "code",
   "execution_count": 231,
   "metadata": {},
   "outputs": [],
   "source": [
    "def published_date(string):\n",
    "    \n",
    "    '''This function is specfic for the string format\n",
    "    in this dataset.\n",
    "    \n",
    "    Input:\n",
    "        string: string of published datae\n",
    "        \n",
    "    Algorithm:\n",
    "        Split string at letter 'T' and then split at '-'.\n",
    "        This returns a list containing the year, month and day.\n",
    "        Convert strings to int type.\n",
    "        Create date object instance with format (year,month,day)\n",
    "        \n",
    "    Returns:\n",
    "        datetime.date object containing the date of publication.'''\n",
    "    \n",
    "    date_string = string.split('T')[0].split('-') # split into list containing strings\n",
    "    return date(int(date_string[0]),int(date_string[1]),int(date_string[2])) #return datetime object (year,month,day)\n",
    "    #return date_string"
   ]
  },
  {
   "cell_type": "code",
   "execution_count": 232,
   "metadata": {},
   "outputs": [],
   "source": [
    "def trending_date(string):\n",
    "    \n",
    "    '''This function is specfic for the string format\n",
    "    in this dataset.\n",
    "    \n",
    "    Input:\n",
    "        string: string of published datae\n",
    "        \n",
    "    Algorithm:\n",
    "        Split string at '.'.\n",
    "        This returns a list containing the year, month and day.\n",
    "        Change year from '00xx' to '20xx' (eg. 0017 to 2017).\n",
    "        Convert strings to int type.\n",
    "        Create date object instance with format (year,month,day)\n",
    "        \n",
    "    Returns:\n",
    "        datetime.date object containing the date of publication.'''\n",
    "        \n",
    "    trend_string = string.split('.')\n",
    "    trend_string[0] = '20'+trend_string[0]\n",
    "    return date(int(trend_string[0]),int(trend_string[2]),int(trend_string[1]))\n",
    "    #return trend_string"
   ]
  },
  {
   "cell_type": "code",
   "execution_count": 233,
   "metadata": {},
   "outputs": [],
   "source": [
    "#test published_date()\n",
    "#pub_time = data['publish_time']\n",
    "#x = pub_time[0]\n",
    "#x = published_date(x)\n",
    "#print(x)"
   ]
  },
  {
   "cell_type": "code",
   "execution_count": 234,
   "metadata": {},
   "outputs": [],
   "source": [
    "#test trending_date()\n",
    "#trend_time = data['trending_date']\n",
    "#y = trend_time[8]\n",
    "#y = trending_date(y)\n",
    "#print(y)"
   ]
  },
  {
   "cell_type": "code",
   "execution_count": 235,
   "metadata": {},
   "outputs": [],
   "source": [
    "#calculate difference between dates.\n",
    "#number of days is contained in the days attribute of the date class\n",
    "#delta = y-x\n",
    "#delta_days = delta.days\n",
    "#print(delta_days)\n",
    "#print(type(delta_days))"
   ]
  },
  {
   "cell_type": "code",
   "execution_count": 236,
   "metadata": {},
   "outputs": [],
   "source": [
    "#Transform the published time column and trending time column.\n",
    "#Not interested in originals so just overwrite columns.\n",
    "data['publish_time'] = data['publish_time'].apply(published_date)\n",
    "data['trending_date'] = data['trending_date'].apply(trending_date)"
   ]
  },
  {
   "cell_type": "code",
   "execution_count": 237,
   "metadata": {},
   "outputs": [
    {
     "name": "stdout",
     "output_type": "stream",
     "text": [
      "<class 'datetime.date'>\n"
     ]
    }
   ],
   "source": [
    "#check transformation\n",
    "print(type(data['publish_time'][0]))"
   ]
  },
  {
   "cell_type": "code",
   "execution_count": 239,
   "metadata": {},
   "outputs": [
    {
     "name": "stdout",
     "output_type": "stream",
     "text": [
      "<class 'datetime.date'>\n"
     ]
    }
   ],
   "source": [
    "print(type(data['publish_time'][0]))\n"
   ]
  },
  {
   "cell_type": "code",
   "execution_count": 240,
   "metadata": {},
   "outputs": [],
   "source": [
    "#create column which contains the number of days it took to trend\n",
    "\n",
    "data['days_till_trending'] = data['trending_date'] - data['publish_time'] #gives a column of data objects\n",
    "data['days_till_trending'] = data['days_till_trending'].apply(lambda x: x.days) #extracts the number of days from date object\n"
   ]
  },
  {
   "cell_type": "code",
   "execution_count": 241,
   "metadata": {},
   "outputs": [
    {
     "name": "stdout",
     "output_type": "stream",
     "text": [
      "0        4\n",
      "1        2\n",
      "2        4\n",
      "3        1\n",
      "4        1\n",
      "        ..\n",
      "30313    1\n",
      "30314    0\n",
      "30315    1\n",
      "30316    2\n",
      "30317    1\n",
      "Name: days_till_trending, Length: 30318, dtype: int64\n",
      "count    30318.000000\n",
      "mean        10.656607\n",
      "std        140.509067\n",
      "min          0.000000\n",
      "25%          1.000000\n",
      "50%          1.000000\n",
      "75%          1.000000\n",
      "max       4215.000000\n",
      "Name: days_till_trending, dtype: float64\n"
     ]
    }
   ],
   "source": [
    "print(data['days_till_trending'])\n",
    "print(data['days_till_trending'].describe())\n"
   ]
  },
  {
   "cell_type": "code",
   "execution_count": 244,
   "metadata": {},
   "outputs": [
    {
     "data": {
      "image/png": "[encoded data removed]",
      "text/plain": [
       "<Figure size 576x288 with 2 Axes>"
      ]
     },
     "metadata": {
      "needs_background": "light"
     },
     "output_type": "display_data"
    }
   ],
   "source": [
    "#Visualise the distribution of times taken to begin trending \n",
    "\n",
    "fig,ax = plt.subplots(1,2,figsize=(8,4))\n",
    "times = data['days_till_trending']\n",
    "times_truncated = times.values[np.where(times<30)]\n",
    "ax[0].hist(times,facecolor='lightblue',bins=20,ec='darkblue')\n",
    "ax[1].hist(times_truncated,facecolor='moccasin',bins=20,ec='darkorange')\n",
    "ax[0].set_xlabel('Days until trending (All Data)')\n",
    "ax[1].set_xlabel('Days until trending (<30 days)')\n",
    "ax[0].set_ylabel('Count')\n",
    "ax[1].set_ylabel('Count')\n",
    "plt.tight_layout()\n",
    "plt.show()"
   ]
  },
  {
   "cell_type": "code",
   "execution_count": 250,
   "metadata": {},
   "outputs": [
    {
     "name": "stdout",
     "output_type": "stream",
     "text": [
      "Number videos trending after 0 days: 2065\n",
      "Number videos trending after 1 days: 21015\n",
      "Number videos trending after 2 days: 3991\n",
      "Number videos trending after 3 days: 1116\n",
      "Number videos trending after 4 days: 583\n",
      "Number videos trending after 5 days: 362\n",
      "Number videos trending after 6 days: 212\n",
      "Number videos trending after 7 days: 158\n",
      "Number videos trending after 8 days: 97\n",
      "Number videos trending after 9 days: 89\n"
     ]
    }
   ],
   "source": [
    "for i in range(10):\n",
    "    days = data[data['days_till_trending']==i]\n",
    "    print('Number videos trending after '+str(i)+' days:', days.shape[0])\n",
    "\n",
    "\n",
    "#zero_days = data[data['days_till_trending']==0].reset_index(drop=True)\n",
    "#one_days = data[data['days_till_trending']==1].reset_index(drop=True)\n",
    "#two_days = data[data['days_till_trending']==2].reset_index(drop=True)\n",
    "\n",
    "#print('Number videos trending after 0 days:', zero_days.shape[0])\n",
    "#print('Number videos trending after 1 days:', one_days.shape[0])\n",
    "#print('Number videos trending after 2 days:', two_days.shape[0])"
   ]
  },
  {
   "cell_type": "markdown",
   "metadata": {},
   "source": [
    "We have a good idea of how the number of days it takes for a video to begin trending. The distribution has positive skew, however the number of videos trending after 0 days is approximaley 10 times smaller than the number of videos trending after 1 day. After 1 day the number of videos trending begins to decrease. 54% of all trendning videos take 1 day to begin trending. This gives an initial insight: __it becomes less likely your video will trend every day past the day after you publish your video__. "
   ]
  },
  {
   "cell_type": "markdown",
   "metadata": {},
   "source": [
    "#### Which category has the most trending videos after 0, 1 and 2 days?\n",
    "\n",
    "It is likely that any words which may distinguish which videos trend quickly from those which do not are category specific, so we should check which categorys have the most videos which begin to trend quickly and if this changes over time."
   ]
  },
  {
   "cell_type": "code",
   "execution_count": 268,
   "metadata": {},
   "outputs": [
    {
     "data": {
      "image/png": "[encoded data removed]",
      "text/plain": [
       "<Figure size 864x288 with 3 Axes>"
      ]
     },
     "metadata": {
      "needs_background": "light"
     },
     "output_type": "display_data"
    }
   ],
   "source": [
    "zero_days = data[data['days_till_trending']==0].reset_index(drop=True)\n",
    "one_days = data[data['days_till_trending']==1].reset_index(drop=True)\n",
    "two_days = data[data['days_till_trending']==2].reset_index(drop=True)\n",
    "\n",
    "category_counts_zero= zero_days['category_name'].value_counts()\n",
    "category_counts_one= one_days['category_name'].value_counts()\n",
    "category_counts_two= two_days['category_name'].value_counts()\n",
    "\n",
    "fig,ax = plt.subplots(1,3,figsize=(12,4))\n",
    "category_counts_zero.plot.bar(ax=ax[0])\n",
    "category_counts_one.plot.bar(ax=ax[1])\n",
    "category_counts_two.plot.bar(ax=ax[2])\n",
    "ax[0].set_title('Trending after zero days')\n",
    "ax[1].set_title('Trending after one day')\n",
    "ax[2].set_title('Trending after two days')\n",
    "plt.tight_layout()\n",
    "plt.show()"
   ]
  },
  {
   "cell_type": "markdown",
   "metadata": {},
   "source": [
    "Entertainment consistantly has the most trending videos after 0, 1 and 2 days. Initially, sports is second but overtaken by News & Politics and People & Blogs after 1 day and then Music, Howto & Style and Comedy after 2 days. __This suggests that sports videos trend on the day when the event happens__, but other categories require a day or two some time to gain traction, while the Entertainiment category consistently has the most trending videos.\n",
    "\n",
    "\n",
    "Since Entertainment constantly has the highest number of trending videos, lets look at just the entertainemtn category first, so simplify the analysis."
   ]
  },
  {
   "cell_type": "markdown",
   "metadata": {},
   "source": [
    "#### Looking for words common to the quick-to-trend videos in the Enertainment category"
   ]
  },
  {
   "cell_type": "code",
   "execution_count": 274,
   "metadata": {},
   "outputs": [
    {
     "name": "stdout",
     "output_type": "stream",
     "text": [
      "(9730, 19)\n",
      "(497, 19)\n",
      "(9233, 19)\n"
     ]
    }
   ],
   "source": [
    "ent_data = data[data['category_name']=='Entertainment'].reset_index(drop=True)\n",
    "ent_fast = ent_data[ent_data['days_till_trending']==0].reset_index(drop=True)\n",
    "ent_slow = ent_data[ent_data['days_till_trending']!=0].reset_index(drop=True)\n",
    "print(ent_data.shape)\n",
    "print(ent_fast.shape)\n",
    "print(ent_slow.shape)"
   ]
  },
  {
   "cell_type": "markdown",
   "metadata": {},
   "source": [
    "For now we will look at just those that trend on the same day they are posted. We can have a look at 0 and 1 days after.\n",
    "\n",
    "To look at the most common words which may hold significance we do the following steps:\n",
    " - Clean the documents. From EDA it is known that there are hyper-links, non-latin scripts, numerical characters, special characters, and symbols contained in all document types (titles/descriptions/tags). We will remove these along with common stop words.\n",
    " - Use CountVectorizer to create a sparse matrix containing the occurace of each word in the vocabulary in every document in the corpus. \n",
    " - Count the number of non zero elements in each column of the sparse matrix. This will be the number of documents in the corpus that each word is found. The result will be an 1xn array where n is the number of words in the vocabulary and each element is the number of documents each word is found in\n",
    " - Sort this to find the most commonly occuring words.\n",
    "\n",
    "\n",
    "Consider title, descriptions and tags separately."
   ]
  },
  {
   "cell_type": "code",
   "execution_count": 276,
   "metadata": {},
   "outputs": [
    {
     "name": "stdout",
     "output_type": "stream",
     "text": [
      "<class 'pandas.core.frame.DataFrame'>\n",
      "RangeIndex: 497 entries, 0 to 496\n",
      "Data columns (total 19 columns):\n",
      "video_id                  497 non-null object\n",
      "trending_date             497 non-null object\n",
      "title                     497 non-null object\n",
      "channel_title             497 non-null object\n",
      "category_id               497 non-null int64\n",
      "publish_time              497 non-null object\n",
      "tags                      497 non-null object\n",
      "views                     497 non-null int64\n",
      "likes                     497 non-null int64\n",
      "dislikes                  497 non-null int64\n",
      "comment_count             497 non-null int64\n",
      "thumbnail_link            497 non-null object\n",
      "comments_disabled         497 non-null bool\n",
      "ratings_disabled          497 non-null bool\n",
      "video_error_or_removed    497 non-null bool\n",
      "description               486 non-null object\n",
      "category_name             497 non-null object\n",
      "country                   497 non-null object\n",
      "days_till_trending        497 non-null int64\n",
      "dtypes: bool(3), int64(6), object(10)\n",
      "memory usage: 63.7+ KB\n",
      "None\n"
     ]
    }
   ],
   "source": [
    "print(ent_fast.info())"
   ]
  },
  {
   "cell_type": "code",
   "execution_count": 279,
   "metadata": {},
   "outputs": [],
   "source": [
    "'''This function was developed during EDA and the steps are described inside the function body. The function does\n",
    "not employ stemming and contains names/words which are not standard English words. There are also some non-English, \n",
    "European words. The presence of 'non-standard' English words is probably Ok when we just want to use the\n",
    "CountVectorizer as a convenient method to represent words before finding the most common, since these one-off \n",
    "words will likely be specific to a given document and wont be among the most popular. \n",
    "\n",
    "Stemming may or may not help: it will help of stemming is succesful and reduces the number of words, which is more \n",
    "likely for the titles and tags, where there is less slang/shorthand. If it overstems/understems however, we may\n",
    "begin to create more noise in the data. This could happen with descriptions where there is more slang/shorthand.'''\n",
    "\n",
    "def text_normalise(message):\n",
    "    \n",
    "    '''Input: string\n",
    "    \n",
    "    1) Remove any links.\n",
    "    2) Remove any Asian characters.\n",
    "    3) Remove words length 3 or less, these tend to be special character such as \\n, single numerical digits\n",
    "    and generally unimportant words.\n",
    "    4) Remove punctuation and return a list of strings.\n",
    "    5) Make all words lower-case and remove stopwords from list.\n",
    "    \n",
    "    Returns: list of strings'''\n",
    "    \n",
    "    message = re.sub(r\"http\\S+\", \"\", str(message)) #remove any links\n",
    "    message = re.sub(\"([^\\x00-\\x7F])+\",\" \",str(message)) #remove any non-latin characters\n",
    "    message = message.replace('\\\\n',' ') #remove new line special charatcer\n",
    "    message = re.sub(r'\\b\\w{1,3}\\b', '', message) # remove all words length 3 or less\n",
    "    no_punc = ''.join([char for char in message if char not in string.punctuation]) #remove punctuation return list of string\n",
    "    no_stopwords = [word.lower() for word in no_punc.split() if word.lower() not in stopwords.words('english')] #remove stopwords\n",
    "    return no_stopwords"
   ]
  },
  {
   "cell_type": "markdown",
   "metadata": {},
   "source": [
    "#### Looking for common words in the titles "
   ]
  },
  {
   "cell_type": "code",
   "execution_count": 288,
   "metadata": {},
   "outputs": [
    {
     "name": "stdout",
     "output_type": "stream",
     "text": [
      "0                               [last, gasp, jedi, rant]\n",
      "1      [trust, last, jedi, love, letter, star, wars, ...\n",
      "2                                  [jumanji, 1995, 2017]\n",
      "3             [half, episode, maze, runner, death, cure]\n",
      "4            [tide, super, bowl, 2018, commercial, tide]\n",
      "                             ...                        \n",
      "492      [john, legend, tony, bennett, sing, york, york]\n",
      "493                     [mobile, littleones, 2018, game]\n",
      "494    [monster, super, bowl, commercial, extended, v...\n",
      "495    [padma, lakshmi, topchef, cancer, diagnosis, w...\n",
      "496           [nashville, final, episodes, coming, june]\n",
      "Name: title, Length: 497, dtype: object\n"
     ]
    }
   ],
   "source": [
    "title_fast = ent_fast['title']\n",
    "title_fast = title_fast.apply(text_normalise)\n",
    "print(title_fast)"
   ]
  },
  {
   "cell_type": "code",
   "execution_count": 292,
   "metadata": {},
   "outputs": [],
   "source": [
    "#create the matrix counting word occurances. \n",
    "#not we can combine this step with the previous step using CountVectorizers analyzer. \n",
    "transformer = CountVectorizer(analyzer=text_normalise).fit(ent_fast['title'])"
   ]
  },
  {
   "cell_type": "code",
   "execution_count": 293,
   "metadata": {},
   "outputs": [],
   "source": [
    "matrix = transformer.transform(ent_fast['title'])"
   ]
  },
  {
   "cell_type": "code",
   "execution_count": 295,
   "metadata": {},
   "outputs": [
    {
     "name": "stdout",
     "output_type": "stream",
     "text": [
      "(497, 1543)\n"
     ]
    }
   ],
   "source": [
    "print(matrix.shape)"
   ]
  },
  {
   "cell_type": "markdown",
   "metadata": {},
   "source": [
    "The words in all documents is represented by a 497x1543 matrix. The number of rows comes from the 497 documents in the dataset. 1543 is the total number of words in the vocabulary. We proceed by calculating the number of non zero elements in each column. Be careful to keep track of row indicies, since we need to use these to map back to the orignal words. "
   ]
  },
  {
   "cell_type": "code",
   "execution_count": 332,
   "metadata": {},
   "outputs": [
    {
     "name": "stdout",
     "output_type": "stream",
     "text": [
      "17\n",
      "[86 58 51 26 26 22 17 16 16 14 13 12 11 11 10 10 10 10  9  9  9  9  9  9\n",
      "  9  9  9  8  8  8  8  8  8]\n",
      "[  17  477 1218 ...  950  952    0]\n"
     ]
    }
   ],
   "source": [
    "occurances = np.count_nonzero(matrix.toarray(),axis=0)\n",
    "sorted_occurances = np.sort(occurances) #gives array in ascending order\n",
    "sorted_indices = np.argsort(occurances) #gives corresponding counts in ascending order\n",
    "\n",
    "sorted_occurances = sorted_occurances[::-1] #flip array\n",
    "sorted_indices = sorted_indices[::-1] #flip corresponding indices\n",
    "print(np.argmax(occurances))\n",
    "print(sorted_occurances[:33])\n",
    "print(sorted_indices)"
   ]
  },
  {
   "cell_type": "markdown",
   "metadata": {},
   "source": [
    "After fitting the Countvectorizer we get a vocabulary. This is a dictionary which has the words as keys and the values are the feature indices, that is, the index of each word in the vocaulary. In order to use the index to look up the word, we need to swap all the key value pairs, so that the index becomes the key and the word becomes the value."
   ]
  },
  {
   "cell_type": "code",
   "execution_count": 319,
   "metadata": {},
   "outputs": [],
   "source": [
    "orginal_vocabulary = transformer.vocabulary_\n",
    "#print(orginal_vocabulary)\n",
    "swapped_vocabulary =  dict((v,k) for k,v in orginal_vocabulary.items())\n"
   ]
  },
  {
   "cell_type": "code",
   "execution_count": 359,
   "metadata": {},
   "outputs": [
    {
     "name": "stdout",
     "output_type": "stream",
     "text": [
      "[  17  477 1218 1070   16  815  665   93 1482  522  529 1421  578 1403\n",
      " 1474  688 1347 1114  916 1015  817  280  976   92  103  631 1255 1232\n",
      "  494  831]\n",
      "['2018', 'episode', 'season', 'promo', '2017', 'live', 'idol', 'american', 'voice', 'finale', 'flash', 'trailer', 'girls', 'tlmep', 'video', 'iphone', 'super', 'recap', 'monologue', 'paul', 'logan', 'chicken', 'official', 'america', 'annie', 'hayden', 'show', 'series', 'extended', 'love']\n"
     ]
    }
   ],
   "source": [
    "#top 30 most common words \n",
    "top_30_indices = sorted_indices[:30]\n",
    "print(top_30_indices)\n",
    "top_30_words = [swapped_vocabulary[i] for i in top_30_indices]\n",
    "print(top_30_words)"
   ]
  },
  {
   "cell_type": "markdown",
   "metadata": {},
   "source": [
    "Now we have the top 30 words we get the term frequency for each video\n",
    "\n",
    "### Calculating the Combined Term Frequency"
   ]
  },
  {
   "cell_type": "code",
   "execution_count": 351,
   "metadata": {},
   "outputs": [],
   "source": [
    "'''Define new class object so we can create a frequency counter for any set of common words\n",
    "we will then be able to apply this to columns of our datasets using .apply()'''\n",
    "\n",
    "class FreqCounter:\n",
    "    \n",
    "    def __init__(self,common_words):\n",
    "        self.c = common_words #list of common words\n",
    "    \n",
    "    \n",
    "    def __call__(self,document):\n",
    "        \n",
    "    '''Calculates frequency of most common words in a document.\n",
    "\n",
    "    Inputs:\n",
    "        common_word_list: list of common words\n",
    "        document: list of strings\n",
    "    Output:\n",
    "        frequency: the proportion of the document made up\n",
    "        of elements from the common word list.'''\n",
    "    \n",
    "        common_words = self.c\n",
    "        \n",
    "        count = sum(el in common_words for el in document)\n",
    "        return count/len(document)\n",
    "        \n",
    "    "
   ]
  },
  {
   "cell_type": "code",
   "execution_count": 358,
   "metadata": {},
   "outputs": [
    {
     "name": "stdout",
     "output_type": "stream",
     "text": [
      "0.375\n",
      "0.375\n"
     ]
    }
   ],
   "source": [
    "#test function on simple lists \n",
    "word = ['cat','fish']\n",
    "doc = ['cat','cat','no','top','sea','no','fish','cow']\n",
    "\n",
    "freq_counter = FreqCounter(word)\n",
    "freq = freq_counter(doc)\n",
    "print(freq)\n",
    "print(3/8)"
   ]
  },
  {
   "cell_type": "code",
   "execution_count": 360,
   "metadata": {},
   "outputs": [
    {
     "ename": "ZeroDivisionError",
     "evalue": "division by zero",
     "output_type": "error",
     "traceback": [
      "\u001b[1;31m---------------------------------------------------------------------------\u001b[0m",
      "\u001b[1;31mZeroDivisionError\u001b[0m                         Traceback (most recent call last)",
      "\u001b[1;32m<ipython-input-360-ef6cd0a2f0a0>\u001b[0m in \u001b[0;36m<module>\u001b[1;34m\u001b[0m\n\u001b[0;32m      1\u001b[0m \u001b[0mfreq_counter\u001b[0m \u001b[1;33m=\u001b[0m \u001b[0mFreqCounter\u001b[0m\u001b[1;33m(\u001b[0m\u001b[0mtop_30_words\u001b[0m\u001b[1;33m)\u001b[0m\u001b[1;33m\u001b[0m\u001b[1;33m\u001b[0m\u001b[0m\n\u001b[1;32m----> 2\u001b[1;33m \u001b[0mfreq_fast\u001b[0m \u001b[1;33m=\u001b[0m \u001b[0mtitle_fast\u001b[0m\u001b[1;33m.\u001b[0m\u001b[0mapply\u001b[0m\u001b[1;33m(\u001b[0m\u001b[0mfreq_counter\u001b[0m\u001b[1;33m)\u001b[0m\u001b[1;33m\u001b[0m\u001b[1;33m\u001b[0m\u001b[0m\n\u001b[0m\u001b[0;32m      3\u001b[0m \u001b[0mprint\u001b[0m\u001b[1;33m(\u001b[0m\u001b[0mfreq_fast\u001b[0m\u001b[1;33m)\u001b[0m\u001b[1;33m\u001b[0m\u001b[1;33m\u001b[0m\u001b[0m\n",
      "\u001b[1;32m~\\Anaconda3\\lib\\site-packages\\pandas\\core\\series.py\u001b[0m in \u001b[0;36mapply\u001b[1;34m(self, func, convert_dtype, args, **kwds)\u001b[0m\n\u001b[0;32m   4040\u001b[0m             \u001b[1;32melse\u001b[0m\u001b[1;33m:\u001b[0m\u001b[1;33m\u001b[0m\u001b[1;33m\u001b[0m\u001b[0m\n\u001b[0;32m   4041\u001b[0m                 \u001b[0mvalues\u001b[0m \u001b[1;33m=\u001b[0m \u001b[0mself\u001b[0m\u001b[1;33m.\u001b[0m\u001b[0mastype\u001b[0m\u001b[1;33m(\u001b[0m\u001b[0mobject\u001b[0m\u001b[1;33m)\u001b[0m\u001b[1;33m.\u001b[0m\u001b[0mvalues\u001b[0m\u001b[1;33m\u001b[0m\u001b[1;33m\u001b[0m\u001b[0m\n\u001b[1;32m-> 4042\u001b[1;33m                 \u001b[0mmapped\u001b[0m \u001b[1;33m=\u001b[0m \u001b[0mlib\u001b[0m\u001b[1;33m.\u001b[0m\u001b[0mmap_infer\u001b[0m\u001b[1;33m(\u001b[0m\u001b[0mvalues\u001b[0m\u001b[1;33m,\u001b[0m \u001b[0mf\u001b[0m\u001b[1;33m,\u001b[0m \u001b[0mconvert\u001b[0m\u001b[1;33m=\u001b[0m\u001b[0mconvert_dtype\u001b[0m\u001b[1;33m)\u001b[0m\u001b[1;33m\u001b[0m\u001b[1;33m\u001b[0m\u001b[0m\n\u001b[0m\u001b[0;32m   4043\u001b[0m \u001b[1;33m\u001b[0m\u001b[0m\n\u001b[0;32m   4044\u001b[0m         \u001b[1;32mif\u001b[0m \u001b[0mlen\u001b[0m\u001b[1;33m(\u001b[0m\u001b[0mmapped\u001b[0m\u001b[1;33m)\u001b[0m \u001b[1;32mand\u001b[0m \u001b[0misinstance\u001b[0m\u001b[1;33m(\u001b[0m\u001b[0mmapped\u001b[0m\u001b[1;33m[\u001b[0m\u001b[1;36m0\u001b[0m\u001b[1;33m]\u001b[0m\u001b[1;33m,\u001b[0m \u001b[0mSeries\u001b[0m\u001b[1;33m)\u001b[0m\u001b[1;33m:\u001b[0m\u001b[1;33m\u001b[0m\u001b[1;33m\u001b[0m\u001b[0m\n",
      "\u001b[1;32mpandas\\_libs\\lib.pyx\u001b[0m in \u001b[0;36mpandas._libs.lib.map_infer\u001b[1;34m()\u001b[0m\n",
      "\u001b[1;32m<ipython-input-351-732b3b465982>\u001b[0m in \u001b[0;36m__call__\u001b[1;34m(self, document)\u001b[0m\n\u001b[0;32m      9\u001b[0m \u001b[1;33m\u001b[0m\u001b[0m\n\u001b[0;32m     10\u001b[0m         \u001b[0mcount\u001b[0m \u001b[1;33m=\u001b[0m \u001b[0msum\u001b[0m\u001b[1;33m(\u001b[0m\u001b[0mel\u001b[0m \u001b[1;32min\u001b[0m \u001b[0mcommon_words\u001b[0m \u001b[1;32mfor\u001b[0m \u001b[0mel\u001b[0m \u001b[1;32min\u001b[0m \u001b[0mdocument\u001b[0m\u001b[1;33m)\u001b[0m\u001b[1;33m\u001b[0m\u001b[1;33m\u001b[0m\u001b[0m\n\u001b[1;32m---> 11\u001b[1;33m         \u001b[1;32mreturn\u001b[0m \u001b[0mcount\u001b[0m\u001b[1;33m/\u001b[0m\u001b[0mlen\u001b[0m\u001b[1;33m(\u001b[0m\u001b[0mdocument\u001b[0m\u001b[1;33m)\u001b[0m\u001b[1;33m\u001b[0m\u001b[1;33m\u001b[0m\u001b[0m\n\u001b[0m\u001b[0;32m     12\u001b[0m \u001b[1;33m\u001b[0m\u001b[0m\n\u001b[0;32m     13\u001b[0m \u001b[1;33m\u001b[0m\u001b[0m\n",
      "\u001b[1;31mZeroDivisionError\u001b[0m: division by zero"
     ]
    }
   ],
   "source": [
    "freq_counter = FreqCounter(top_30_words)\n",
    "freq_fast = title_fast.apply(freq_counter)\n",
    "print(freq_fast)"
   ]
  },
  {
   "cell_type": "code",
   "execution_count": null,
   "metadata": {},
   "outputs": [],
   "source": []
  }
 ],
 "metadata": {
  "kernelspec": {
   "display_name": "Python 3",
   "language": "python",
   "name": "python3"
  },
  "language_info": {
   "codemirror_mode": {
    "name": "ipython",
    "version": 3
   },
   "file_extension": ".py",
   "mimetype": "text/x-python",
   "name": "python",
   "nbconvert_exporter": "python",
   "pygments_lexer": "ipython3",
   "version": "3.7.4"
  }
 },
 "nbformat": 4,
 "nbformat_minor": 2
}
