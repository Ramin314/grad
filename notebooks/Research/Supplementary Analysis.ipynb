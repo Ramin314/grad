{
 "cells": [
  {
   "cell_type": "markdown",
   "metadata": {},
   "source": [
    "# Research Notebook\n",
    "## Main findings:\n",
    "* Titles phrased as a question tended to have more user engagement and spent more time in trending but had less overall views.\n",
    "\n",
    "* There is a negative relationship between the length of time a video is trending and the amount of trending videos that the channel has.\n",
    "\n",
    "* No relationship was found between user engagement and days trending.\n",
    "\n"
   ]
  },
  {
   "cell_type": "code",
   "execution_count": 90,
   "metadata": {},
   "outputs": [],
   "source": [
    "import numpy as np \n",
    "import pandas as pd \n",
    "import matplotlib.pyplot as plt\n",
    "import json\n",
    "from datetime import datetime"
   ]
  },
  {
   "cell_type": "code",
   "execution_count": 91,
   "metadata": {},
   "outputs": [],
   "source": [
    "US = pd.read_csv(\"youtube/USvideos.csv\")\n",
    "GB = pd.read_csv(\"youtube/GBvideos.csv\")\n",
    "CA = pd.read_csv(\"youtube/CAvideos.csv\")\n",
    "US[\"region\"] = \"US\"\n",
    "GB[\"region\"] = \"GB\"\n",
    "CA[\"region\"] = \"CA\"\n",
    "df = pd.concat([US, GB, CA])\n",
    "df = US # just using US data for now\n",
    "df['trending_date'] = pd.to_datetime(df['trending_date'], format='%y.%d.%m')"
   ]
  },
  {
   "cell_type": "markdown",
   "metadata": {},
   "source": [
    "# Days Trending\n",
    "The relationship between days trending and engagement showed no apparent relationship. Engagement was measured as comment count / views. While the number of comments had a small correlation, it was quite insignificant. This  suggets that the trending algorithm is not using the comments to decide what videos trend."
   ]
  },
  {
   "cell_type": "code",
   "execution_count": 92,
   "metadata": {},
   "outputs": [
    {
     "data": {
      "image/png": "[encoded data removed]",
      "text/plain": [
       "<Figure size 432x288 with 1 Axes>"
      ]
     },
     "metadata": {
      "needs_background": "light"
     },
     "output_type": "display_data"
    }
   ],
   "source": [
    "# keep last appearance of trending video\n",
    "frequencies = df.video_id.value_counts()\n",
    "frequencies.plot.hist()\n",
    "trending_start = df.drop_duplicates(\"video_id\", keep=\"first\").set_index(\"video_id\").rename(columns={\"views\":\"starting_views\", \"likes\":\"starting_likes\"})\n",
    "trending_end = df.drop_duplicates(\"video_id\", keep=\"last\").set_index(\"video_id\")\n",
    "trending = pd.concat([trending_end, trending_start[[\"starting_views\",\"starting_likes\"]] ,frequencies], axis=1, sort=False).rename(columns={\"video_id\":\"days_trending\"})\n"
   ]
  },
  {
   "cell_type": "code",
   "execution_count": 93,
   "metadata": {},
   "outputs": [
    {
     "data": {
      "text/plain": [
       "category_id      -0.085441\n",
       "views             0.260074\n",
       "likes             0.217892\n",
       "dislikes          0.063631\n",
       "comment_count     0.118065\n",
       "starting_views    0.181504\n",
       "starting_likes    0.169822\n",
       "days_trending     1.000000\n",
       "engagement       -0.038215\n",
       "views_per_day     0.143846\n",
       "Name: days_trending, dtype: float64"
      ]
     },
     "execution_count": 93,
     "metadata": {},
     "output_type": "execute_result"
    }
   ],
   "source": [
    "# engagement is comments / views\n",
    "trending[\"engagement\"] = trending.comment_count/trending.views\n",
    "trending[\"views_per_day\"] = (trending.views-trending.starting_views)/trending.days_trending\n",
    "trending[trending.views_per_day < 0] = 0 \n",
    "trending.corr().days_trending"
   ]
  },
  {
   "cell_type": "code",
   "execution_count": 94,
   "metadata": {},
   "outputs": [
    {
     "data": {
      "text/plain": [
       "category_id      -0.154215\n",
       "views             0.871961\n",
       "likes             0.750614\n",
       "dislikes          0.500341\n",
       "comment_count     0.541382\n",
       "starting_views    0.601865\n",
       "starting_likes    0.562058\n",
       "days_trending     0.143846\n",
       "engagement       -0.049757\n",
       "views_per_day     1.000000\n",
       "Name: views_per_day, dtype: float64"
      ]
     },
     "execution_count": 94,
     "metadata": {},
     "output_type": "execute_result"
    }
   ],
   "source": [
    "trending.corr().views_per_day"
   ]
  },
  {
   "cell_type": "markdown",
   "metadata": {},
   "source": [
    "# Title\n",
    "## Questions \n",
    "One method that video creators have used to attract users, is it to phrase the title as a question. This section looks at the effect of using a question in the title. "
   ]
  },
  {
   "cell_type": "code",
   "execution_count": 95,
   "metadata": {},
   "outputs": [
    {
     "name": "stdout",
     "output_type": "stream",
     "text": [
      "    5.63% of titles are questions\n"
     ]
    }
   ],
   "source": [
    "trending[\"question\"] = trending.title.str.contains(\"?\", regex=False)\n",
    "percent_question = float((trending[\"question\"] == True).sum() / trending[\"question\"].count())*100\n",
    "print(\"{:8.2f}% of titles are questions\".format(percent_question))"
   ]
  },
  {
   "cell_type": "markdown",
   "metadata": {},
   "source": [
    "5.63% of titles being questions is a significant amount and it is worth exploring its effects on other statistics."
   ]
  },
  {
   "cell_type": "code",
   "execution_count": 96,
   "metadata": {},
   "outputs": [
    {
     "data": {
      "text/plain": [
       "<matplotlib.axes._subplots.AxesSubplot at 0x169422b4a48>"
      ]
     },
     "execution_count": 96,
     "metadata": {},
     "output_type": "execute_result"
    },
    {
     "data": {
      "image/png": "[encoded data removed]",
      "text/plain": [
       "<Figure size 432x288 with 1 Axes>"
      ]
     },
     "metadata": {
      "needs_background": "light"
     },
     "output_type": "display_data"
    }
   ],
   "source": [
    "question_views = trending.groupby(\"question\").mean()\n",
    "question_percentage = (question_views[question_views.index == True] - question_views.mean())/ question_views.mean()\n",
    "question_percent_series = question_percentage[[\"views\", \"likes\", \"comment_count\" ,\"engagement\" , \"days_trending\"]].squeeze()\n",
    "question_percent_series.plot.barh(color=(question_percent_series > 0).map({True: 'g',False: 'r'}), title=\"Average % difference for videos titled with a question\")"
   ]
  },
  {
   "cell_type": "code",
   "execution_count": 123,
   "metadata": {},
   "outputs": [
    {
     "data": {
      "text/plain": [
       "views           -0.193629\n",
       "likes           -0.221376\n",
       "comment_count    0.003315\n",
       "engagement       0.193216\n",
       "days_trending    0.027268\n",
       "Name: True, dtype: float64"
      ]
     },
     "execution_count": 123,
     "metadata": {},
     "output_type": "execute_result"
    }
   ],
   "source": [
    "question_percent_series"
   ]
  },
  {
   "cell_type": "markdown",
   "metadata": {},
   "source": [
    "This plot shows that while likes and views went down, user engagement increased. User engagement was measured as the comment count / views. We also see a slight increase in the days trending of these videos. This suggests that user engagement might play a part in whether a video is trending. "
   ]
  },
  {
   "cell_type": "markdown",
   "metadata": {},
   "source": [
    "# Category\n",
    "## No. of Trends\n",
    "This section looks at the number of trending videos different channels have and how that effects days trending. "
   ]
  },
  {
   "cell_type": "code",
   "execution_count": 97,
   "metadata": {},
   "outputs": [
    {
     "data": {
      "text/html": [
       "<div>\n",
       "<style scoped>\n",
       "    .dataframe tbody tr th:only-of-type {\n",
       "        vertical-align: middle;\n",
       "    }\n",
       "\n",
       "    .dataframe tbody tr th {\n",
       "        vertical-align: top;\n",
       "    }\n",
       "\n",
       "    .dataframe thead th {\n",
       "        text-align: right;\n",
       "    }\n",
       "</style>\n",
       "<table border=\"1\" class=\"dataframe\">\n",
       "  <thead>\n",
       "    <tr style=\"text-align: right;\">\n",
       "      <th></th>\n",
       "      <th>views</th>\n",
       "      <th>likes</th>\n",
       "      <th>days_trending</th>\n",
       "      <th>engagement</th>\n",
       "    </tr>\n",
       "  </thead>\n",
       "  <tbody>\n",
       "    <tr>\n",
       "      <td>One Trend</td>\n",
       "      <td>1.817694e+06</td>\n",
       "      <td>40606.721702</td>\n",
       "      <td>6.212689</td>\n",
       "      <td>0.003331</td>\n",
       "    </tr>\n",
       "    <tr>\n",
       "      <td>Multiple Trends</td>\n",
       "      <td>2.002431e+06</td>\n",
       "      <td>59756.483280</td>\n",
       "      <td>6.509468</td>\n",
       "      <td>0.004250</td>\n",
       "    </tr>\n",
       "  </tbody>\n",
       "</table>\n",
       "</div>"
      ],
      "text/plain": [
       "                        views         likes  days_trending  engagement\n",
       "One Trend        1.817694e+06  40606.721702       6.212689    0.003331\n",
       "Multiple Trends  2.002431e+06  59756.483280       6.509468    0.004250"
      ]
     },
     "execution_count": 97,
     "metadata": {},
     "output_type": "execute_result"
    }
   ],
   "source": [
    "# only keep channels that had 1 trending video in the period\n",
    "trending_channels = trending.channel_title.value_counts()\n",
    "one_trend_channels = trending_channels[trending_channels == 1]\n",
    "one_trend_mean = trending[trending.channel_title.isin(one_trend_channels.index)].mean()\n",
    "multi_trend_mean =trending[-trending.channel_title.isin(one_trend_channels.index)].mean()\n",
    "one_trend_vs_multi_trend_channels = pd.concat({\"One Trend\":one_trend_mean,\"Multiple Trends\":multi_trend_mean}, axis=1)\n",
    "one_trend_vs_multi_trend_channels.T[[\"views\", \"likes\", \"days_trending\", \"engagement\"]]"
   ]
  },
  {
   "cell_type": "markdown",
   "metadata": {},
   "source": [
    "This table shows that channels with multiple trending videos tend to have higher views, likes, engagement and days trending. "
   ]
  },
  {
   "cell_type": "code",
   "execution_count": 98,
   "metadata": {},
   "outputs": [],
   "source": [
    "trending = pd.merge(trending,\n",
    "                 trending_channels,\n",
    "                 left_on = \"channel_title\", \n",
    "                 right_index = True, \n",
    "                 how='left').rename(columns={\"channel_title_x\":\"channel_title\",\"channel_title_y\":\"channel_trends\"})"
   ]
  },
  {
   "cell_type": "code",
   "execution_count": 99,
   "metadata": {},
   "outputs": [],
   "source": [
    "# create dictionary of categories and category ids\n",
    "id_to_category = {}\n",
    "\n",
    "with open('youtube/US_category_id.json', 'r') as f:\n",
    "    data = json.load(f)\n",
    "    for category in data['items']:\n",
    "        id_to_category[int(category['id'])] = category['snippet']['title']\n",
    "\n",
    "with open('youtube/CA_category_id.json', 'r') as f:\n",
    "    data = json.load(f)\n",
    "    for category in data['items']:\n",
    "        id_to_category[category['id']] = category['snippet']['title']\n",
    "        \n",
    "with open('youtube/GB_category_id.json', 'r') as f:\n",
    "    data = json.load(f)\n",
    "    for category in data['items']:\n",
    "        id_to_category[category['id']] = category['snippet']['title']"
   ]
  },
  {
   "cell_type": "code",
   "execution_count": 102,
   "metadata": {},
   "outputs": [
    {
     "data": {
      "text/plain": [
       "<matplotlib.axes._subplots.AxesSubplot at 0x1694bee7ec8>"
      ]
     },
     "execution_count": 102,
     "metadata": {},
     "output_type": "execute_result"
    },
    {
     "data": {
      "image/png": "[encoded data removed]",
      "text/plain": [
       "<Figure size 432x288 with 1 Axes>"
      ]
     },
     "metadata": {
      "needs_background": "light"
     },
     "output_type": "display_data"
    }
   ],
   "source": [
    "trending[\"category\"] = trending.category_id.map(id_to_category)\n",
    "category_counts = trending.groupby([\"category\"]).count().channel_trends\n",
    "category_unique = trending.groupby([\"category\"]).nunique().channel_title\n",
    "(category_unique / category_counts).sort_values().plot.bar(title = \"Percent of videos that come from unique channels\")"
   ]
  },
  {
   "cell_type": "code",
   "execution_count": 143,
   "metadata": {},
   "outputs": [
    {
     "data": {
      "text/plain": [
       "category\n",
       "Autos & Vehicles          1\n",
       "Comedy                   22\n",
       "Education                78\n",
       "Entertainment            95\n",
       "Film & Animation          6\n",
       "Gaming                    6\n",
       "Howto & Style            33\n",
       "Music                    11\n",
       "News & Politics          19\n",
       "Nonprofits & Activism     1\n",
       "People & Blogs           20\n",
       "Pets & Animals            9\n",
       "Science & Technology     38\n",
       "Sports                   17\n",
       "Travel & Events           1\n",
       "Name: title, dtype: int64"
      ]
     },
     "execution_count": 143,
     "metadata": {},
     "output_type": "execute_result"
    }
   ],
   "source": [
    "trending[trending[\"question\"]== True].groupby([\"category\"]).title.count()"
   ]
  },
  {
   "cell_type": "code",
   "execution_count": 144,
   "metadata": {},
   "outputs": [
    {
     "data": {
      "text/plain": [
       "category\n",
       "Autos & Vehicles          379715.5\n",
       "Comedy                    795894.5\n",
       "Education                 342564.0\n",
       "Entertainment             602127.0\n",
       "Film & Animation          910969.5\n",
       "Gaming                   1430025.0\n",
       "Howto & Style             419822.0\n",
       "Music                    1096158.0\n",
       "News & Politics           169511.0\n",
       "Nonprofits & Activism      32744.0\n",
       "People & Blogs            402418.0\n",
       "Pets & Animals            436472.0\n",
       "Science & Technology      401968.5\n",
       "Shows                     765522.0\n",
       "Sports                    407453.5\n",
       "Travel & Events           401809.0\n",
       "Name: views, dtype: float64"
      ]
     },
     "execution_count": 144,
     "metadata": {},
     "output_type": "execute_result"
    }
   ],
   "source": [
    "trending[trending[\"question\"] == False].groupby([\"category\"]).median().views"
   ]
  },
  {
   "cell_type": "code",
   "execution_count": 149,
   "metadata": {},
   "outputs": [
    {
     "data": {
      "image/png": "[encoded data removed]",
      "text/plain": [
       "<Figure size 432x288 with 1 Axes>"
      ]
     },
     "metadata": {
      "needs_background": "light"
     },
     "output_type": "display_data"
    }
   ],
   "source": [
    "ax = trending[trending[\"question\"]== True].groupby([\"category\"]).median().days_trending.sort_values().plot.barh(title=\"Median Days Trending by Category \")\n",
    "fig = ax.get_figure()\n",
    "\n",
    "fig.savefig('median_trend_question.png', bbox_inches='tight')"
   ]
  },
  {
   "cell_type": "code",
   "execution_count": null,
   "metadata": {},
   "outputs": [],
   "source": []
  },
  {
   "cell_type": "code",
   "execution_count": 108,
   "metadata": {},
   "outputs": [
    {
     "data": {
      "text/plain": [
       "<matplotlib.axes._subplots.AxesSubplot at 0x169425b8708>"
      ]
     },
     "execution_count": 108,
     "metadata": {},
     "output_type": "execute_result"
    },
    {
     "data": {
      "image/png": "[encoded data removed]",
      "text/plain": [
       "<Figure size 432x288 with 1 Axes>"
      ]
     },
     "metadata": {
      "needs_background": "light"
     },
     "output_type": "display_data"
    }
   ],
   "source": [
    "category_counts.sort_values().plot.bar(title = \"Distribution of categories in trending\")"
   ]
  },
  {
   "cell_type": "markdown",
   "metadata": {},
   "source": [
    "This first plot shows that there is a large difference between the number of unique trending channels for each category. News, comedy and education are dominated by a small collection of channels while gaming, vehicles and nonprofits have a wider variety of trending channels."
   ]
  },
  {
   "cell_type": "code",
   "execution_count": 122,
   "metadata": {},
   "outputs": [
    {
     "data": {
      "text/plain": [
       "-0.4932059843685006"
      ]
     },
     "execution_count": 122,
     "metadata": {},
     "output_type": "execute_result"
    }
   ],
   "source": [
    "pd.concat([(category_unique / category_counts), category_counts], axis=1).corr()[0].channel_trends"
   ]
  },
  {
   "cell_type": "markdown",
   "metadata": {},
   "source": [
    "The relationship between unique trending channels in a category and the amount of trending videos ina category has a negative relationship. This implies that the more popular categories have relatively less unique channels."
   ]
  }
 ],
 "metadata": {
  "kernelspec": {
   "display_name": "Python 3",
   "language": "python",
   "name": "python3"
  },
  "language_info": {
   "codemirror_mode": {
    "name": "ipython",
    "version": 3
   },
   "file_extension": ".py",
   "mimetype": "text/x-python",
   "name": "python",
   "nbconvert_exporter": "python",
   "pygments_lexer": "ipython3",
   "version": "3.7.4"
  }
 },
 "nbformat": 4,
 "nbformat_minor": 2
}
