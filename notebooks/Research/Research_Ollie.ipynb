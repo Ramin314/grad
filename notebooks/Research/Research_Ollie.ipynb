{
 "cells": [
  {
   "cell_type": "markdown",
   "metadata": {},
   "source": [
    "# Text analysis of the YouTube dataset: the influence of words on trending times and number of views\n",
    "\n",
    "***\n",
    "\n",
    "The investigation of the text data of the YouTube dataset is broken down into 3 tasks:\n",
    "\n",
    "1. Understanding the structure of the text data: this is required in order to develop a function to clean text documents.\n",
    "2. Here we investigate the question: can we find a set of words which are common to videos which are quick-to-trend, but not common to videos which are slow-to-trend?\n",
    "3. Here we investigate the question: can we use text data to predict if a video will be in the top 20% of viewed videos in its given category?\n",
    " \n",
    "Each task is investigated sequentially in this section and the insights, limitiations and potential improvements are discussed."
   ]
  },
  {
   "cell_type": "markdown",
   "metadata": {},
   "source": [
    "## Task 1: understanding the structure of the text data\n",
    "\n",
    "### Motivation: develop a function to clean the text features"
   ]
  },
  {
   "cell_type": "code",
   "execution_count": 116,
   "metadata": {},
   "outputs": [],
   "source": [
    "import pandas as pd\n",
    "import numpy as np\n",
    "import json\n",
    "\n",
    "import matplotlib.pyplot as plt\n",
    "import seaborn as sns\n",
    "\n",
    "import re\n",
    "import string\n",
    "import nltk\n",
    "from nltk.corpus import stopwords\n",
    "from datetime import date\n",
    "\n",
    "from scipy import stats\n",
    "\n",
    "from sklearn.model_selection import StratifiedShuffleSplit\n",
    "from sklearn.model_selection import cross_val_predict\n",
    "from sklearn.pipeline import Pipeline\n",
    "from sklearn.feature_extraction.text import CountVectorizer\n",
    "from sklearn.naive_bayes import MultinomialNB\n",
    "from sklearn.metrics import confusion_matrix\n",
    "from sklearn.metrics import precision_recall_curve, roc_curve\n",
    "from sklearn.metrics import auc"
   ]
  },
  {
   "cell_type": "code",
   "execution_count": 117,
   "metadata": {},
   "outputs": [],
   "source": [
    "data = pd.read_csv('../../data/data.csv') #import cleaned data, containing GB, CA and US datasets. \n",
    "gb = data[data['country']=='gb'] #select only GB dataset"
   ]
  },
  {
   "cell_type": "code",
   "execution_count": 82,
   "metadata": {},
   "outputs": [
    {
     "name": "stdout",
     "output_type": "stream",
     "text": [
      "(38916, 23)\n",
      "(3272, 23)\n"
     ]
    }
   ],
   "source": [
    "print(gb.shape)\n",
    "gb = gb.drop_duplicates(subset='video_id',keep='last')\n",
    "print(gb.shape)"
   ]
  },
  {
   "cell_type": "code",
   "execution_count": 83,
   "metadata": {
    "scrolled": true
   },
   "outputs": [
    {
     "data": {
      "image/png": "[encoded data removed]",
      "text/plain": [
       "<Figure size 432x288 with 2 Axes>"
      ]
     },
     "metadata": {
      "needs_background": "light"
     },
     "output_type": "display_data"
    }
   ],
   "source": [
    "fig,ax = plt.subplots(1,2)\n",
    "\n",
    "views_reduced = gb['views'].values[np.where(gb['views']<5e6)]\n",
    "\n",
    "ax[0].hist(gb['views'],facecolor='lightblue',ec='darkblue')\n",
    "ax[0].set_xlabel('Views')\n",
    "ax[0].set_ylabel('Count')\n",
    "\n",
    "ax[1].hist(views_reduced,facecolor='lightblue',ec='darkblue')\n",
    "ax[1].set_xlabel('Views (reduced)')\n",
    "ax[1].set_ylabel('Count')\n",
    "\n",
    "plt.tight_layout()\n",
    "plt.show()"
   ]
  },
  {
   "cell_type": "markdown",
   "metadata": {},
   "source": [
    "Positive skew persists in the the dataset of only unique values. Remember to replicate this in the train-test split if we decide to create a machine learning model based on this data later."
   ]
  },
  {
   "cell_type": "code",
   "execution_count": 84,
   "metadata": {},
   "outputs": [
    {
     "name": "stdout",
     "output_type": "stream",
     "text": [
      "0     PURCHASE YOU & ME HERE ▶ https://smarturl.it/m...\n",
      "1     HOT 97 App: http://www.hot97.com/hot97app\\n\\nY...\n",
      "2     Stream & Download ‘Say It To My Face’ now from...\n",
      "3     Join dodie on a tour of Belfast before her hea...\n",
      "4     Watch the official music video for Win by Tee ...\n",
      "5     Trigger Warning: This video portrays subtle ye...\n",
      "6     Get an unprecedented glimpse into Taylor's son...\n",
      "7     Get “Cinema Paradiso” from our album “Score” a...\n",
      "8     Get Taylor Swift’s new album, reputation, here...\n",
      "9     Music video by Luke Bryan performing Most Peop...\n",
      "10    사랑에 빠져 돌아온 러블리즈, 추운 겨울 두근대는 설레임을 담은 세 번째 미니앨범 ...\n",
      "Name: description, dtype: object\n"
     ]
    }
   ],
   "source": [
    "#select music category\n",
    "gb_music = gb.loc[gb['category_name']=='Music'].reset_index(drop=True)\n",
    "print(gb_music['description'][0:11])"
   ]
  },
  {
   "cell_type": "markdown",
   "metadata": {},
   "source": [
    "We can see that some descriptions contain Koren, Chinese and Japanese text, this is also the case with some titles and tags. For now we don't want to process these scrips and we should filter them out. To do this we can use Pythons re module."
   ]
  },
  {
   "cell_type": "code",
   "execution_count": 85,
   "metadata": {},
   "outputs": [],
   "source": [
    "def text_normalise(message):\n",
    "    \n",
    "    '''Input: string\n",
    "    \n",
    "    1) Remove any links.\n",
    "    2) Remove any Asian characters.\n",
    "    3) Remove words length 3 or less, these tend to be special character such as \\n, single numerical digits\n",
    "    and generally unimportant words.\n",
    "    4) Remove punctuation and return a list of strings.\n",
    "    5) Make all words lower-case and remove stopwords from list.\n",
    "    \n",
    "    Returns: list of strings'''\n",
    "    message = re.sub(r\"http\\S+\", \"\", str(message)) #remove any links\n",
    "    message = re.sub(\"([^\\x00-\\x7F])+\",\" \",str(message)) #remove any non-latin characters\n",
    "    message = message.replace('\\\\n',' ') #remove new line special charatcer\n",
    "    message = re.sub(r'\\b\\w{1,3}\\b', '', message) # remove all words length 3 or less\n",
    "    no_punc = ''.join([char for char in message if char not in string.punctuation]) #remove punctuation return list of string\n",
    "    no_stopwords = [word.lower() for word in no_punc.split() if word.lower() not in stopwords.words('english')] #remove stopwords\n",
    "    return no_stopwords\n"
   ]
  },
  {
   "cell_type": "code",
   "execution_count": 86,
   "metadata": {},
   "outputs": [
    {
     "name": "stdout",
     "output_type": "stream",
     "text": [
      "['lovelyz', 'mini', 'album', 'fall', 'lovelyz', 'fall', 'lovelyz', 'ready', 'alwayz', '1take', '2014', 'fall', 'lovelyz', 'complextro', 'electro', '1take', '1take', 'spotlight', 'fallin', 'fallin', 'alwayz', 'fall', 'lovelyz', 'music', 'music', 'youtube', 'music', 'music', 'business', 'brand', 'asia', 'entertainment', 'company', 'music', 'covers', 'investment', 'production', 'distribution', 'album', 'also', 'provides', 'best', 'music', 'festival', 'concerts', 'meet', 'artists', 'brand', 'music', 'videos', 'exclusive', 'video', 'clips', 'official', 'youtube', 'music']\n"
     ]
    }
   ],
   "source": [
    "#we see that the 11th message contains Korean (expanding the string you find other symbols and special characters)\n",
    "#we apply text_normalise() to this message as an example\n",
    "x = gb_music['description'][10]\n",
    "normal_x = text_normalise(x)\n",
    "print(normal_x)"
   ]
  },
  {
   "cell_type": "markdown",
   "metadata": {},
   "source": [
    "The string still contains slang and numbers, but all non-latin text, sybols and special characters have been removed."
   ]
  },
  {
   "cell_type": "markdown",
   "metadata": {},
   "source": [
    "***"
   ]
  },
  {
   "cell_type": "markdown",
   "metadata": {},
   "source": [
    "## Task 2: can we find a set of words which are common to videos which are quick-to-trend, but not common to videos which are slow-to-trend? \n",
    "\n",
    "### Motivation: if we can find a set of words which distinguishes videos which begin trending quickly compared to those which begin trending slowly, we could suggest adding certain words to your title/tags/descriptions to increase the probability of your video trending quickly. It may also allow us to estimate how long it will take for a given video to begin trending at the moment it is posted, when we have no other data. \n",
    "\n",
    "### Strategy:\n",
    "\n",
    "1. Prepare data \n",
    "    - Consider only UK, CA and US datasets. \n",
    "    - Consider categories separately.\n",
    "    - Calculate time between publication of a video and when it first begins to trend.\n",
    "    \n",
    "2. Identify a set of words which may occur more freqently in titles/descriptions/tags of quick-to-trend videos, but not in slow-to-trend videos.\n",
    "    - Take the subset of quickest to trending videos. For example, those which trend the same day as they are posted.\n",
    "    - Find which words are most common to the titles/tag/description (document) of the quickest to trend videos. That is, find which words occur in the most documents in the subset, not how many times a word occurs in a given document.\n",
    "    - Rank these words from most common to least common. Then choose the first n words, there are our n most common words, common to the videos which trend on the same day they are posted.\n",
    "    - __Note__, this is a postulate of what the set of words which distinguish the two catergories would be. Other methods which assign feature importance, such as using a tf-idf weighting, does not assign importance to words in the way we need. \n",
    "    \n",
    "3. Use a statistical hypothesis test to determine if these words occur more frequently in quick-to-trend videos than in slow-to-trend videos.\n",
    "    - Calculate the combined term frequency of our n common words in each document in the set of quick-to-trend videos. This is: (the number of occurances of common words found in the document) / (the total number of words in the document).\n",
    "    - Calculate the combined term frequency of our n common words in each document in the set of slow-to-trend videos.\n",
    "    - Check if the mean value of the combined term frequency for quick-to-trend videos is different than the mean value of the combined term frequency for slow-to-trend videos. See if this difference is statistically significant using a t-test.\n",
    "    - If the difference is statistically significant, we will have identified a set of words which is common to douments describing occurs more frequently in quick-to-trending videos but not in slow-to-trend videos.\n",
    "    - __Note__ this method does not claim causality, only that these words occur more frequently in videos that trend in quick-to-trend videos than in slow-to-trend videos.\n",
    " \n",
    "\n",
    "4. Draw insights from the test & discuss limitations and improvements.\n",
    " - Using the method described below it does seem possible to identify a set of words which occurs more frequenly in 'quick-to-trend'; the method was applied to video titles in the Entertainment category. \n",
    " - Key insights: \n",
    "     - Promo videos and trailers appear to trend quickest.\n",
    "     - People look for authenticity.\n",
    "     - People look for the most recent version of a video.\n",
    "     - American Idol appears to be the most popular tv show in this category. \n",
    "     - Celebrity 'gossip' appears to trend quickly.\n",
    "     - iPhone announcements appear to trend quickly. \n",
    "\n",
    " \n",
    " ***"
   ]
  },
  {
   "cell_type": "markdown",
   "metadata": {},
   "source": [
    "#### Load and organise data"
   ]
  },
  {
   "cell_type": "code",
   "execution_count": 87,
   "metadata": {},
   "outputs": [],
   "source": [
    "#re-initialise data\n",
    "\n",
    "'''\n",
    "Re-initialise data\n",
    "\n",
    "This file is cleaned data. Clearning occurs in a separate file data '''\n",
    "data = pd.read_csv('../../data/data.csv')"
   ]
  },
  {
   "cell_type": "code",
   "execution_count": 88,
   "metadata": {},
   "outputs": [
    {
     "data": {
      "image/png": "[encoded data removed]",
      "text/plain": [
       "<Figure size 432x288 with 1 Axes>"
      ]
     },
     "metadata": {
      "needs_background": "light"
     },
     "output_type": "display_data"
    }
   ],
   "source": [
    "'''Create bar chart to see which countries have largest\n",
    "number of trending videos in combined dataset.\n",
    "\n",
    "Note that each country has different categories so the total\n",
    "number of categories here is different to the amount of \n",
    "categories in the individual data sets.'''\n",
    "\n",
    "category_counts= data['category_name'].value_counts()\n",
    "fig = plt.figure()\n",
    "category_counts.plot.bar()\n",
    "plt.show()"
   ]
  },
  {
   "cell_type": "markdown",
   "metadata": {},
   "source": [
    "#### Calculate the time between publication and trending\n",
    "\n",
    "First step is to filter out duplicate instances, and keep only first instance of each video, when it began trending."
   ]
  },
  {
   "cell_type": "code",
   "execution_count": 89,
   "metadata": {},
   "outputs": [],
   "source": [
    "data = data.drop_duplicates(subset='video_id',keep='first').reset_index(drop=True)"
   ]
  },
  {
   "cell_type": "code",
   "execution_count": 90,
   "metadata": {},
   "outputs": [
    {
     "data": {
      "image/png": "[encoded data removed]",
      "text/plain": [
       "<Figure size 576x288 with 2 Axes>"
      ]
     },
     "metadata": {
      "needs_background": "light"
     },
     "output_type": "display_data"
    }
   ],
   "source": [
    "#Visualise the distribution of times taken to begin trending \n",
    "\n",
    "fig,ax = plt.subplots(1,2,figsize=(8,4))\n",
    "times = data['days_till_trending']\n",
    "times_truncated = times.values[np.where(times<30)]\n",
    "ax[0].hist(times,facecolor='lightblue',bins=20,ec='darkblue')\n",
    "ax[1].hist(times_truncated,facecolor='moccasin',bins=20,ec='darkorange')\n",
    "ax[0].set_xlabel('Days until trending (All Data)')\n",
    "ax[1].set_xlabel('Days until trending (<30 days)')\n",
    "ax[0].set_ylabel('Count')\n",
    "ax[1].set_ylabel('Count')\n",
    "plt.tight_layout()\n",
    "plt.show()"
   ]
  },
  {
   "cell_type": "code",
   "execution_count": 91,
   "metadata": {},
   "outputs": [
    {
     "name": "stdout",
     "output_type": "stream",
     "text": [
      "Number videos trending after 0 days: 2065\n",
      "Number videos trending after 1 days: 21015\n",
      "Number videos trending after 2 days: 3991\n",
      "Number videos trending after 3 days: 1116\n",
      "Number videos trending after 4 days: 583\n",
      "Number videos trending after 5 days: 362\n",
      "Number videos trending after 6 days: 212\n",
      "Number videos trending after 7 days: 158\n",
      "Number videos trending after 8 days: 97\n",
      "Number videos trending after 9 days: 89\n"
     ]
    }
   ],
   "source": [
    "for i in range(10):\n",
    "    days = data[data['days_till_trending']==i]\n",
    "    print('Number videos trending after '+str(i)+' days:', days.shape[0])\n"
   ]
  },
  {
   "cell_type": "markdown",
   "metadata": {},
   "source": [
    "We have a good idea of how the number of days it takes for a video to begin trending. The distribution has positive skew, however the number of videos trending after 0 days is approximaley 10 times smaller than the number of videos trending after 1 day. After 1 day the number of videos trending begins to decrease. 54% of all trending videos take 1 day to begin trending. This gives an initial insight: __it becomes less likely your video will trend every day past the day after you publish your video__. "
   ]
  },
  {
   "cell_type": "markdown",
   "metadata": {},
   "source": [
    "#### Which category has the most trending videos after 0, 1 and 2 days?\n",
    "\n",
    "It is likely that any words which may distinguish which videos trend quickly from those which do not are category specific, so we should check which categorys have the most videos which begin to trend quickly and if this changes over time."
   ]
  },
  {
   "cell_type": "code",
   "execution_count": 93,
   "metadata": {},
   "outputs": [
    {
     "data": {
      "image/png": "[encoded data removed]",
      "text/plain": [
       "<Figure size 864x288 with 3 Axes>"
      ]
     },
     "metadata": {
      "needs_background": "light"
     },
     "output_type": "display_data"
    }
   ],
   "source": [
    "zero_days = data[data['days_till_trending']==0].reset_index(drop=True)\n",
    "one_days = data[data['days_till_trending']==1].reset_index(drop=True)\n",
    "two_days = data[data['days_till_trending']==2].reset_index(drop=True)\n",
    "\n",
    "category_counts_zero= zero_days['category_name'].value_counts()\n",
    "category_counts_one= one_days['category_name'].value_counts()\n",
    "category_counts_two= two_days['category_name'].value_counts()\n",
    "\n",
    "fig,ax = plt.subplots(1,3,figsize=(12,4))\n",
    "category_counts_zero.plot.bar(ax=ax[0])\n",
    "category_counts_one.plot.bar(ax=ax[1])\n",
    "category_counts_two.plot.bar(ax=ax[2])\n",
    "ax[0].set_title('Trending after zero days')\n",
    "ax[1].set_title('Trending after one day')\n",
    "ax[2].set_title('Trending after two days')\n",
    "plt.tight_layout()\n",
    "plt.show()"
   ]
  },
  {
   "cell_type": "markdown",
   "metadata": {},
   "source": [
    "Entertainment consistantly has the most trending videos after 0, 1 and 2 days. Initially, sports is second but overtaken by News & Politics and People & Blogs after 1 day and then Music, Howto & Style and Comedy after 2 days. __This suggests that sports videos trend on the day when the event happens__, but other categories require a day or two some time to gain traction, while the Entertainiment category consistently has the most trending videos.\n",
    "\n",
    "\n",
    "Since Entertainment constantly has the highest number of trending videos, lets look at just the entertainemtn category first, so simplify the analysis."
   ]
  },
  {
   "cell_type": "markdown",
   "metadata": {},
   "source": [
    "### Looking for words common to the quick-to-trend videos in the Enertainment category"
   ]
  },
  {
   "cell_type": "code",
   "execution_count": 94,
   "metadata": {},
   "outputs": [
    {
     "name": "stdout",
     "output_type": "stream",
     "text": [
      "(9730, 23)\n",
      "(497, 23)\n",
      "(9233, 23)\n"
     ]
    }
   ],
   "source": [
    "ent_data = data[data['category_name']=='Entertainment'].reset_index(drop=True)\n",
    "ent_fast = ent_data[ent_data['days_till_trending']==0].reset_index(drop=True)\n",
    "ent_slow = ent_data[ent_data['days_till_trending']!=0].reset_index(drop=True)\n",
    "print(ent_data.shape)\n",
    "print(ent_fast.shape)\n",
    "print(ent_slow.shape)"
   ]
  },
  {
   "cell_type": "markdown",
   "metadata": {},
   "source": [
    "For now we will look at just those that trend on the same day they are posted. We can have a look at 0 and 1 days after.\n",
    "\n",
    "To find the most common words which may hold significance we do the following steps:\n",
    " - Clean the documents. From EDA it is known that there are hyper-links, non-latin scripts, numerical characters, special characters, and symbols contained in all document types (titles/descriptions/tags). We will remove these along with common stop words.\n",
    " - Use CountVectorizer to create a sparse matrix containing the occurace of each word in the vocabulary in every document in the corpus. \n",
    " - Count the number of non-zero elements in each column of the sparse matrix. This will be the number of documents in the corpus in which each word is found. The result will be an 1xn array where n is the number of words in the vocabulary and each element is the number of documents each word is found in\n",
    " - Sort this to find the most commonly occuring words.\n",
    "\n",
    "\n",
    "Consider title, descriptions and tags separately."
   ]
  },
  {
   "cell_type": "code",
   "execution_count": 95,
   "metadata": {
    "scrolled": true
   },
   "outputs": [
    {
     "name": "stdout",
     "output_type": "stream",
     "text": [
      "0                               [last, gasp, jedi, rant]\n",
      "1      [trust, last, jedi, love, letter, star, wars, ...\n",
      "2                                  [jumanji, 1995, 2017]\n",
      "3             [half, episode, maze, runner, death, cure]\n",
      "4            [tide, super, bowl, 2018, commercial, tide]\n",
      "                             ...                        \n",
      "492      [john, legend, tony, bennett, sing, york, york]\n",
      "493                     [mobile, littleones, 2018, game]\n",
      "494    [monster, super, bowl, commercial, extended, v...\n",
      "495    [padma, lakshmi, topchef, cancer, diagnosis, w...\n",
      "496           [nashville, final, episodes, coming, june]\n",
      "Name: title, Length: 497, dtype: object\n",
      "(497,)\n"
     ]
    }
   ],
   "source": [
    "title_fast = ent_fast['title']\n",
    "title_fast = title_fast.apply(text_normalise) #normalise titles using function defined in Task1\n",
    "print(title_fast)\n",
    "print(title_fast.shape)"
   ]
  },
  {
   "cell_type": "code",
   "execution_count": 96,
   "metadata": {},
   "outputs": [
    {
     "name": "stdout",
     "output_type": "stream",
     "text": [
      "(497,)\n",
      "(489,)\n"
     ]
    }
   ],
   "source": [
    "#drop empty lists\n",
    "print(title_fast.shape)\n",
    "title_fast = title_fast[title_fast.str.len()!=0] #remove empty lists from series\n",
    "print(title_fast.shape)"
   ]
  },
  {
   "cell_type": "code",
   "execution_count": 97,
   "metadata": {},
   "outputs": [],
   "source": [
    "#create the matrix counting word occurances. \n",
    "#not we can combine this step with the previous step using CountVectorizers analyzer. \n",
    "transformer = CountVectorizer(analyzer=text_normalise).fit(ent_fast['title'])"
   ]
  },
  {
   "cell_type": "code",
   "execution_count": 98,
   "metadata": {},
   "outputs": [],
   "source": [
    "matrix = transformer.transform(ent_fast['title'])"
   ]
  },
  {
   "cell_type": "code",
   "execution_count": 99,
   "metadata": {},
   "outputs": [
    {
     "name": "stdout",
     "output_type": "stream",
     "text": [
      "(497, 1543)\n"
     ]
    }
   ],
   "source": [
    "print(matrix.shape)"
   ]
  },
  {
   "cell_type": "markdown",
   "metadata": {},
   "source": [
    "The words in all documents is represented by a 497x1543 matrix. The number of rows comes from the 497 documents in the dataset. 1543 is the total number of words in the vocabulary. We proceed by calculating the number of non zero elements in each column. Be careful to keep track of row indicies, since we need to use these to map back to the orignal words. "
   ]
  },
  {
   "cell_type": "code",
   "execution_count": 100,
   "metadata": {},
   "outputs": [
    {
     "name": "stdout",
     "output_type": "stream",
     "text": [
      "17\n",
      "Counts: [86 58 51 26 26 22 17 16 16 14 13 12 11 11 10 10 10 10  9  9  9  9  9  9\n",
      "  9  9  9  8  8  8  8  8  8]\n",
      "Indices: [  17  477 1218 ...  950  952    0]\n"
     ]
    }
   ],
   "source": [
    "occurances = np.count_nonzero(matrix.toarray(),axis=0)\n",
    "sorted_occurances = np.sort(occurances) #gives array in ascending order\n",
    "sorted_indices = np.argsort(occurances) #gives corresponding counts in ascending order\n",
    "\n",
    "sorted_occurances = sorted_occurances[::-1] #flip array\n",
    "sorted_indices = sorted_indices[::-1] #flip corresponding indices\n",
    "print(np.argmax(occurances))\n",
    "print('Counts:', sorted_occurances[:33])\n",
    "print('Indices:', sorted_indices)"
   ]
  },
  {
   "cell_type": "markdown",
   "metadata": {},
   "source": [
    "After fitting the Countvectorizer we get a vocabulary. This is a dictionary which has the words as keys and the values are the feature indices, that is, the index of each word in the vocaulary. In order to use the index to look up the word, we need to swap all the key value pairs, so that the index becomes the key and the word becomes the value."
   ]
  },
  {
   "cell_type": "code",
   "execution_count": 101,
   "metadata": {},
   "outputs": [],
   "source": [
    "orginal_vocabulary = transformer.vocabulary_\n",
    "#print(orginal_vocabulary)\n",
    "swapped_vocabulary =  dict((v,k) for k,v in orginal_vocabulary.items())\n"
   ]
  },
  {
   "cell_type": "code",
   "execution_count": 102,
   "metadata": {},
   "outputs": [
    {
     "name": "stdout",
     "output_type": "stream",
     "text": [
      "[  17  477 1218 1070   16  815  665   93 1482  522  529 1421  578 1403\n",
      " 1474  688 1347 1114  916 1015  817  280  976   92  103  631 1255 1232\n",
      "  494  831]\n",
      "['2018', 'episode', 'season', 'promo', '2017', 'live', 'idol', 'american', 'voice', 'finale', 'flash', 'trailer', 'girls', 'tlmep', 'video', 'iphone', 'super', 'recap', 'monologue', 'paul', 'logan', 'chicken', 'official', 'america', 'annie', 'hayden', 'show', 'series', 'extended', 'love']\n"
     ]
    }
   ],
   "source": [
    "#top 30 most common words \n",
    "top_30_indices = sorted_indices[:30]\n",
    "print(top_30_indices)\n",
    "top_30_words = [swapped_vocabulary[i] for i in top_30_indices]\n",
    "print(top_30_words)"
   ]
  },
  {
   "cell_type": "markdown",
   "metadata": {},
   "source": [
    "Now we have the top 30 words we get the term frequency for each video\n",
    "\n",
    "#### Calculating the Combined Term Frequency in the quick-to-trend videos"
   ]
  },
  {
   "cell_type": "code",
   "execution_count": 103,
   "metadata": {},
   "outputs": [],
   "source": [
    "'''Define new class object so we can create a frequency counter for any set of common words\n",
    "we will then be able to apply instances of this class to columns of our datasets using the\n",
    "apply() method.'''\n",
    "\n",
    "class FreqCounter:\n",
    "    \n",
    "    def __init__(self,common_words):\n",
    "        self.c = common_words #list of common words\n",
    "\n",
    "\n",
    "    def __call__(self,document):\n",
    "        \n",
    "        '''Calculates frequency of most common words in a document.\n",
    "\n",
    "        Inputs:\n",
    "            common_word_list: list of common words\n",
    "            document: list of strings\n",
    "        Output:\n",
    "            frequency: the proportion of the document made up\n",
    "            of elements from the common word list.'''\n",
    "    \n",
    "        common_words = self.c\n",
    "\n",
    "        count = sum(el in common_words for el in document)\n",
    "        return count/len(document)\n",
    "        \n",
    "    def test_FreqCounter():\n",
    "        \n",
    "        '''This is used to test if the above callable \n",
    "        works as intended, by testing it on a simple\n",
    "        pair of lists with a known result.'''\n",
    "        \n",
    "        word = ['cat','no']\n",
    "        doc = ['cat','cat','no','top','sea','no','fish','cow']\n",
    "        \n",
    "        '''The combined term freqency of the strings 'cat' and 'no'\n",
    "        in the list doc is (2+2)/8= 0.5. We test that the callable\n",
    "        indeed returns 0.5.'''\n",
    "        \n",
    "        fc = FreqCounter(word)\n",
    "        assert abs(fc(doc)-0.5)<1e-10, 'Function not returning expected value of 0.5. Check __call__(document).'"
   ]
  },
  {
   "cell_type": "code",
   "execution_count": 104,
   "metadata": {},
   "outputs": [
    {
     "name": "stdout",
     "output_type": "stream",
     "text": [
      "None\n"
     ]
    }
   ],
   "source": [
    "#test FreqCounter on simple lists \n",
    "#this will raise an Assertion error is the test function is not satisfied.\n",
    "#if it works as expected this will return None\n",
    "print(FreqCounter.test_FreqCounter())"
   ]
  },
  {
   "cell_type": "code",
   "execution_count": 105,
   "metadata": {},
   "outputs": [
    {
     "name": "stdout",
     "output_type": "stream",
     "text": [
      "0      0.000000\n",
      "1      0.125000\n",
      "2      0.333333\n",
      "3      0.166667\n",
      "4      0.333333\n",
      "         ...   \n",
      "492    0.000000\n",
      "493    0.250000\n",
      "494    0.333333\n",
      "495    0.000000\n",
      "496    0.000000\n",
      "Name: title, Length: 489, dtype: float64\n"
     ]
    }
   ],
   "source": [
    "freq_counter = FreqCounter(top_30_words)\n",
    "freq_fast = title_fast.apply(freq_counter) #the frequency of common words occuring in the videos that trend after 0 days\n",
    "print(freq_fast)"
   ]
  },
  {
   "cell_type": "code",
   "execution_count": 106,
   "metadata": {},
   "outputs": [
    {
     "data": {
      "image/png": "[encoded data removed]",
      "text/plain": [
       "<Figure size 432x288 with 1 Axes>"
      ]
     },
     "metadata": {
      "needs_background": "light"
     },
     "output_type": "display_data"
    },
    {
     "name": "stdout",
     "output_type": "stream",
     "text": [
      "Mean combined term frequency: 0.18012107751371553\n"
     ]
    }
   ],
   "source": [
    "fig = plt.figure()\n",
    "plt.hist(freq_fast.values,facecolor='lightblue',ec='darkblue')\n",
    "plt.xlabel('Common term frequency')\n",
    "plt.ylabel('Count')\n",
    "plt.show()\n",
    "\n",
    "print('Mean combined term frequency:', np.mean(freq_fast.values))"
   ]
  },
  {
   "cell_type": "markdown",
   "metadata": {},
   "source": [
    "Now, calculate frequency of the same set of words in the data set of videos that are slow to trend and compare the mean values.\n",
    "#### Calculating the Combined Term Frequency in the slow-to-trend videos"
   ]
  },
  {
   "cell_type": "code",
   "execution_count": 107,
   "metadata": {},
   "outputs": [],
   "source": [
    "title_slow = ent_slow['title'] #get titles of slow to trend videos \n",
    "title_slow = title_slow.apply(text_normalise) #normalise the titles\n",
    "title_slow = title_slow[title_slow.str.len()!=0] #remove empty documents\n",
    "freq_slow = title_slow.apply(freq_counter) #calculate the combined term frequencies using the FreqCounter instance\n"
   ]
  },
  {
   "cell_type": "code",
   "execution_count": 109,
   "metadata": {
    "scrolled": true
   },
   "outputs": [
    {
     "data": {
      "image/png": "[encoded data removed]",
      "text/plain": [
       "<Figure size 432x288 with 1 Axes>"
      ]
     },
     "metadata": {
      "needs_background": "light"
     },
     "output_type": "display_data"
    },
    {
     "name": "stdout",
     "output_type": "stream",
     "text": [
      "Mean combined term frequency: 0.13310746132029058\n"
     ]
    }
   ],
   "source": [
    "fig = plt.figure()\n",
    "plt.hist(freq_slow.values,facecolor='lightblue',ec='darkblue')\n",
    "plt.xlabel('Common term frequency')\n",
    "plt.ylabel('Count')\n",
    "plt.show()\n",
    "\n",
    "print('Mean combined term frequency:', np.mean(freq_slow.values))"
   ]
  },
  {
   "cell_type": "markdown",
   "metadata": {},
   "source": [
    "#### Use Student's t-test to see if means are significantly different.\n",
    " - __Note__ although the two distributions are skewed, the validity of the t-test relies on the assumption that the __t-statistic itself__ follows a normal distribution, not that the distribution of the population (our data) is normal. The distribution of t-statistic is obtained by __sampling from the population__ and by the central limit theorem, this distribution will be normal if the number of samples is high enough. 'High enough' is commonly taken to be more than approximately 50 points, so our data satisfies this condition. The upshot is, a t-test is valid, even though the distributions of the combined term frequencies are skewed.\n",
    " \n"
   ]
  },
  {
   "cell_type": "code",
   "execution_count": 110,
   "metadata": {},
   "outputs": [
    {
     "name": "stdout",
     "output_type": "stream",
     "text": [
      "Varience of quick-to-trend: 0.04653303231007048\n",
      "Varience of slow-to-trend: 0.041144853466525924\n",
      "Ratio: 1.130956325994166\n"
     ]
    }
   ],
   "source": [
    "#Check how similar the varience of the two groups are\n",
    "print('Varience of quick-to-trend:', np.var(freq_fast.values,ddof=1))\n",
    "print('Varience of slow-to-trend:', np.var(freq_slow.values,ddof=1))\n",
    "print('Ratio:', np.var(freq_fast.values,ddof=1)/np.var(freq_slow.values,ddof=1))"
   ]
  },
  {
   "cell_type": "markdown",
   "metadata": {},
   "source": [
    "We have similar varience and non equal sample sizes. We can use stats.ttest_ind(x1,x2) to calculate the t-statistic and p-value. By default it assums varience is equal and that sample sizes are not equal.\n",
    "\n"
   ]
  },
  {
   "cell_type": "code",
   "execution_count": 111,
   "metadata": {},
   "outputs": [
    {
     "name": "stdout",
     "output_type": "stream",
     "text": [
      "Ttest_indResult(statistic=4.9759345267940125, pvalue=6.606524778237355e-07)\n"
     ]
    }
   ],
   "source": [
    "test_result = stats.ttest_ind(freq_fast.values,freq_slow.values)\n",
    "print(test_result)\n"
   ]
  },
  {
   "cell_type": "markdown",
   "metadata": {},
   "source": [
    "The p-value is much smaller than any chosen significance level, often chosen to be 0.05, which indicates that this result is statistically significant. We can calculate the magnitude of the difference in terms of the pooled standard deviation. This metric is called Cohen's d."
   ]
  },
  {
   "cell_type": "code",
   "execution_count": 112,
   "metadata": {},
   "outputs": [],
   "source": [
    "def pooled_std(g1, g2):\n",
    "    'Compute the pooled standard devation of two independent 1D arrays'\n",
    "\n",
    "    n1 = g1.shape[0]\n",
    "    n2 = g2.shape[0]\n",
    "    var1 = np.var(g1,ddof=1)\n",
    "    var2 = np.var(g2,ddof=1)\n",
    "    \n",
    "    pooled_std = np.sqrt(((n1-1)*var1 + (n2-1)*var2)/(n1 + n2 - 2))\n",
    "    \n",
    "    return pooled_std\n",
    "\n",
    "def cohens_d(g1, g2,s):\n",
    "    'Compute Cohens d'\n",
    "    \n",
    "    return (np.mean(g1)-np.mean(g2))/s"
   ]
  },
  {
   "cell_type": "code",
   "execution_count": 113,
   "metadata": {},
   "outputs": [
    {
     "name": "stdout",
     "output_type": "stream",
     "text": [
      "0.2310038095177387\n"
     ]
    }
   ],
   "source": [
    "std = pooled_std(freq_fast.values,freq_slow.values)\n",
    "d = cohens_d(freq_fast.values,freq_slow.values,std)\n",
    "print(d)"
   ]
  },
  {
   "cell_type": "markdown",
   "metadata": {},
   "source": [
    "### Interpretation of t-test results"
   ]
  },
  {
   "cell_type": "markdown",
   "metadata": {},
   "source": [
    "- We have identified a set of words which are commonly found in titles which trend on the same day as they are posted. __Note__ this word selection was not based on how frequently it occurs in any given title, only on how many titles in the group it occured in. \n",
    "- We then calculated how frequently these words occured in video titles in both groups the videos that trend on the same day as publication and those that do not. We called this the __combined term frequency__.\n",
    "- We compared the mean value of the combined term frequency in both groups using a statistical hypothesis test (t-test).\n",
    "- The resulting p-value was 6.6 $\\times$ 10$^{-7}$, which is smaller than any significance level which would commonly be used. This means that the mean value of the combines term frequency in the two groups __is significantly different__, that is, we almost certainly __do not observe this difference by chance__.\n",
    "- The difference between the mean combined term frequencies is 0.23 times the pooled standard deviation, this is considered a small difference, although it is significant.\n",
    "- Therefore, we have indentified a set of words which occur more frequently in the titles of videos which trend in the same day than in titles of videos which do not trend on the same day.\n",
    "- This process has only been applied to video titles in the Enterainment category, we could apply the same method to identify sets of words occuring in the descriptions or tags and in other categories. \n"
   ]
  },
  {
   "cell_type": "markdown",
   "metadata": {},
   "source": [
    "## Insights from this result\n",
    "\n",
    "The top 30 words which appear more frequently in quick-to-trend videos are shown below:"
   ]
  },
  {
   "cell_type": "code",
   "execution_count": 114,
   "metadata": {},
   "outputs": [
    {
     "name": "stdout",
     "output_type": "stream",
     "text": [
      "['2018', 'episode', 'season', 'promo', '2017', 'live', 'idol', 'american', 'voice', 'finale', 'flash', 'trailer', 'girls', 'tlmep', 'video', 'iphone', 'super', 'recap', 'monologue', 'paul', 'logan', 'chicken', 'official', 'america', 'annie', 'hayden', 'show', 'series', 'extended', 'love']\n"
     ]
    }
   ],
   "source": [
    "print(top_30_words)"
   ]
  },
  {
   "cell_type": "markdown",
   "metadata": {},
   "source": [
    "We can idenfity some known TV shows and people in this set:\n",
    " - American Idol (TV show)\n",
    " - Logan Paul (Youtuber)\n",
    " - Annie & Hayden (likely relates to two, famous US child actors with millions of instagram followers, who 'broke-up' in 2018).\n",
    " \n",
    "And words which relate to TV and film in general:\n",
    " - Episode\n",
    " - Season\n",
    " - Promo \n",
    " - Official \n",
    " - Trailer \n",
    " - Series\n",
    " - Video\n",
    "\n",
    "1. From this data set it seems that in the Entertainment category, __promo videos and trailers__ trend on the day they are posted.\n",
    "2. The appreance of 'Official' suggests that __people look for authenticity__ with their videos. You can imagine this would occur in prahses such as 'Official Trailer' and 'Official Promo'.\n",
    "3. The appearance of '2018' and '2017' suggests that __people look for the most current version__ of specific videos.\n",
    "3. It suggests that American idol is the most popular show in the category and the audience engages with new videos on the day of posting.\n",
    "4. Celebrities may trend quickly. Logan Paul is often known to be controversial, this suggests that __controversy could cause videos to begin trending faster__. Also a google search of Annie Hayden brings up multiple hits relating to the break-up of the two US actors mentioned above. This suggests that __celebrity 'gossip' also trends quickly__.\n",
    "5. __iPhone announcments trend quickly__, which may be expected since Apple is known to have a dedicated customer base. The occurance of 'iphone' could relate to the announcement of the release of the iPhone XS, XS Max and XR in 2018. \n"
   ]
  },
  {
   "cell_type": "markdown",
   "metadata": {},
   "source": [
    "## Limitations and improvements\n",
    "\n",
    "This section has developed a method for identifying words which may be helpful in distingusishing which videos trend on the same day that they are posted. It has been applied to the titles of videos in the entertainment category here, but could be applied to any set of documents so long as:\n",
    "\n",
    "- There are enough videos in that category in order to satisfy the normality assumtion of the t-test. Without the t-test we can't say that the words we have identified as being important truly do occur more frequently in titles of videos that trend on the same day. \n",
    "- Most of the data is in English. This method cannot currently distinguish other languages and scripts.\n",
    "\n",
    "Improvements:\n",
    " - In order to apply this method to more categories and document types, we would want to automate the process. To do this you would create custom Scikit-learn transformers for each transformation step and then join them using a Pipeline. \n",
    " - Further investiagtion into the text cleaning function. Could stemming help? Could removing non-English, European langues help?\n",
    "\n",
    "Potential applications:\n",
    " - Could we use the combined term frequencies as a predictor variable, to classify a video into quick-to-trend or slow-to-trend.\n",
    " - If we were using the combined term frequencies generated by this process to classify videos, we would probably want to define some hyperparameters. For example how many words do we include in our top n most common words? Where do we define the boundary between quick-to-trend and slow-to-trend, could including videos which trend after 1 day in the quick-to-trend data set give better classification performance? We could optimise these parameters using a grid search. "
   ]
  },
  {
   "cell_type": "markdown",
   "metadata": {},
   "source": [
    " ***"
   ]
  },
  {
   "cell_type": "markdown",
   "metadata": {},
   "source": [
    "***"
   ]
  },
  {
   "cell_type": "markdown",
   "metadata": {},
   "source": [
    "## Task 3: Can we use text data to predict if a video will be in the top 20% of viewed videos in its given category?\n",
    "\n",
    "### Motivation: we can gain insights into which videos will get the most views before we gain any other data, for example before the video has any views, comments or ratings. This could help Youtubers tailor their titles/descriptions to maximise the number of views, which may impact the trending behaviour.\n",
    "\n",
    "#### Strategy\n",
    "\n",
    " - Take the music category in the GB dataset, as a a subject for this initial experiement.\n",
    " - Take latest unique instance for each video.\n",
    " - Check distribution of views.\n",
    " - Calculate percentiles for this category.\n",
    " - Create column which has values Yes and No. These values will be used to label data as being in top 20% or not in top 20%\n",
    " - Create a bag-of-words model to represent the text.\n",
    " - Try out some classifiers"
   ]
  },
  {
   "cell_type": "code",
   "execution_count": 118,
   "metadata": {},
   "outputs": [],
   "source": [
    "data = pd.read_csv('../../data/data.csv') #import cleaned data, containing GB, CA and US datasets. \n",
    "gb = data[data['country']=='gb'] #select only GB dataset"
   ]
  },
  {
   "cell_type": "code",
   "execution_count": 119,
   "metadata": {},
   "outputs": [
    {
     "name": "stdout",
     "output_type": "stream",
     "text": [
      "(38916, 23)\n",
      "(3272, 23)\n"
     ]
    }
   ],
   "source": [
    "#Drop dubplicate instances, keeping only latest entry for each video\n",
    "print(gb.shape)\n",
    "gb = gb.drop_duplicates(subset='video_id',keep='last')\n",
    "print(gb.shape)"
   ]
  },
  {
   "cell_type": "code",
   "execution_count": 120,
   "metadata": {},
   "outputs": [
    {
     "data": {
      "image/png": "[encoded data removed]",
      "text/plain": [
       "<Figure size 432x288 with 2 Axes>"
      ]
     },
     "metadata": {
      "needs_background": "light"
     },
     "output_type": "display_data"
    }
   ],
   "source": [
    "fig,ax = plt.subplots(1,2)\n",
    "\n",
    "views_reduced = gb['views'].values[np.where(gb['views']<5e6)]\n",
    "\n",
    "ax[0].hist(gb['views'],facecolor='lightblue',ec='darkblue')\n",
    "ax[0].set_xlabel('Views')\n",
    "ax[0].set_ylabel('Count')\n",
    "\n",
    "ax[1].hist(views_reduced,facecolor='lightblue',ec='darkblue')\n",
    "ax[1].set_xlabel('Views (reduced)')\n",
    "ax[1].set_ylabel('Count')\n",
    "\n",
    "plt.tight_layout()\n",
    "plt.show()"
   ]
  },
  {
   "cell_type": "markdown",
   "metadata": {},
   "source": [
    "Positive skew persists in the the dataset of only unique values. Remember to replicate this in the train-test split. "
   ]
  },
  {
   "cell_type": "code",
   "execution_count": 121,
   "metadata": {},
   "outputs": [],
   "source": [
    "'''\n",
    "Compute 80th percentile for this category.\n",
    "\n",
    "We will use the method of nearest-rank to calculate a percentile which should be un-affected by skew.\n",
    "\n",
    "First we sort views in assending order\n",
    "Next, calculate the ordinal rank of views.\n",
    "Finally, return value from the array of ordered views ath N'th index. \n",
    "'''\n",
    "\n",
    "def p_percentile(views_column,p=80):\n",
    "    '''p is given as a percentage. Default: p=80%'''\n",
    "    \n",
    "    ordered_views = np.sort(views_column.values) #sort values\n",
    "    N = ordered_views.shape[0] #number of values in array\n",
    "    ordinal_rank = int(N*p/100) #calculate ordinal rank\n",
    "    \n",
    "    return ordered_views[ordinal_rank] #return the value of ordered array at index ordinal_rank"
   ]
  },
  {
   "cell_type": "code",
   "execution_count": 122,
   "metadata": {},
   "outputs": [
    {
     "name": "stdout",
     "output_type": "stream",
     "text": [
      "14008109\n",
      "13109979.546180159\n",
      "424538912\n"
     ]
    }
   ],
   "source": [
    "percentile_80 = p_percentile(gb_music['views'])\n",
    "print(percentile_80)\n",
    "print(gb_music['views'].mean())\n",
    "print(gb_music['views'].max())"
   ]
  },
  {
   "cell_type": "code",
   "execution_count": 123,
   "metadata": {},
   "outputs": [],
   "source": [
    "#Create labels to indicate if video is in top 20% or not.\n",
    "gb_music['Percentile'] = gb_music['views'].apply(lambda x: 'Yes' if x >= percentile_80 else 'No')\n",
    "gb_music.reset_index(inplace=True)\n",
    "#print(gb_music.head)"
   ]
  },
  {
   "cell_type": "markdown",
   "metadata": {},
   "source": [
    "We will plot the distribution of labels so we can compare to the training labels after the split. We want to compare becuase we want the stratisfied splitting to replecate the skew."
   ]
  },
  {
   "cell_type": "code",
   "execution_count": 124,
   "metadata": {},
   "outputs": [
    {
     "data": {
      "image/png": "[encoded data removed]",
      "text/plain": [
       "<Figure size 432x288 with 1 Axes>"
      ]
     },
     "metadata": {
      "needs_background": "light"
     },
     "output_type": "display_data"
    }
   ],
   "source": [
    "fig = plt.figure()\n",
    "plt.hist(gb_music['Percentile'])\n",
    "plt.xlabel('Yes/No Label')\n",
    "plt.ylabel('Count')\n",
    "plt.show()"
   ]
  },
  {
   "cell_type": "code",
   "execution_count": 125,
   "metadata": {},
   "outputs": [
    {
     "name": "stdout",
     "output_type": "stream",
     "text": [
      "0      [purchase, wolves, vertical, video, silence, m...\n",
      "1                                            [subscribe]\n",
      "2      [stream, download, face, favourite, local, ret...\n",
      "3      [join, dodie, tour, belfast, headline, show, m...\n",
      "4      [watch, official, music, video, grizzley, stre...\n",
      "                             ...                        \n",
      "872    [people, watching, video, hope, feel, comfort,...\n",
      "873    [song, move, miami, feat, pitbull, click, show...\n",
      "874    [official, music, video, single, available, ev...\n",
      "875    [2002, annemarie, speak, mind, debut, album, w...\n",
      "876    [debut, album, light, mine, superduperkyleface...\n",
      "Name: description, Length: 877, dtype: object\n"
     ]
    }
   ],
   "source": [
    "#clean text using fuction created in task 1\n",
    "descriptons = gb_music['description']\n",
    "normalised_desc = descriptons.apply(text_normalise)\n",
    "print(normalised_desc)"
   ]
  },
  {
   "cell_type": "markdown",
   "metadata": {},
   "source": [
    "### Testing out some classifiers"
   ]
  },
  {
   "cell_type": "code",
   "execution_count": 126,
   "metadata": {},
   "outputs": [
    {
     "name": "stdout",
     "output_type": "stream",
     "text": [
      "(877, 2)\n",
      "(869, 2)\n"
     ]
    }
   ],
   "source": [
    "#define data to use in classifier and drop instances with missing description\n",
    "\n",
    "gb_music_data = gb_music[['description','Percentile']]\n",
    "print(gb_music_data.shape)\n",
    "gb_music_data = gb_music_data[gb_music_data['description'].notna()]\n",
    "print(gb_music_data.shape)"
   ]
  },
  {
   "cell_type": "code",
   "execution_count": 127,
   "metadata": {},
   "outputs": [],
   "source": [
    "#Create train test split\n",
    "\n",
    "X = gb_music_data['description']\n",
    "y = gb_music_data['Percentile']\n",
    "\n",
    "split = StratifiedShuffleSplit(n_splits=1, test_size=0.2, random_state=42)\n",
    "\n",
    "for train_index, test_index in split.split(X, y):\n",
    "    X_train, X_test = X.iloc[train_index], X.iloc[test_index]\n",
    "    y_train, y_test = y.iloc[train_index], y.iloc[test_index]"
   ]
  },
  {
   "cell_type": "code",
   "execution_count": 128,
   "metadata": {},
   "outputs": [
    {
     "data": {
      "image/png": "[encoded data removed]",
      "text/plain": [
       "<Figure size 432x288 with 1 Axes>"
      ]
     },
     "metadata": {
      "needs_background": "light"
     },
     "output_type": "display_data"
    }
   ],
   "source": [
    "#Check if the split replecates the imbalance between categories \n",
    "fig = plt.figure()\n",
    "plt.hist(y_train)\n",
    "plt.xlabel('Yes/No Label')\n",
    "plt.ylabel('Count')\n",
    "plt.show()"
   ]
  },
  {
   "cell_type": "markdown",
   "metadata": {},
   "source": [
    "The ratio of Yes to No is similar to that shown above, before we split the data, so we can assume that the sampling has reproduced the imbalance between categories. We can now build a pipeline to clean and vectorise the text, and pass it to a classifier. To begin with we try a simple Bag-of-words model which can be acheived using the CountVectorizer class. It is possible to clean the data by passing our cleaning function 'text_normalise' to the analyzer of the CountVectorizer. We will make predictions on using sk-learn's cross_val_predict. This perfoms k-fold cross validation, but instead of returning a score such as accuracy, it returns a prediction for each intance, which can be used to construct a confusion matrix."
   ]
  },
  {
   "cell_type": "code",
   "execution_count": 129,
   "metadata": {},
   "outputs": [],
   "source": [
    "pipeline = Pipeline([('vect',CountVectorizer(analyzer=text_normalise)),('nbm',MultinomialNB())]) #create pipeline\n",
    "predictions = cross_val_predict(pipeline,X_train,y_train,cv=3) #use cross validated predictions"
   ]
  },
  {
   "cell_type": "code",
   "execution_count": 130,
   "metadata": {},
   "outputs": [
    {
     "name": "stdout",
     "output_type": "stream",
     "text": [
      "Confusion matrix:\n",
      "[[524  30]\n",
      " [ 98  43]]\n",
      "Precision: 0.589041095890411\n",
      "Recall: 0.3049645390070922\n",
      "F1-score: 0.4018691588785047\n"
     ]
    }
   ],
   "source": [
    "#Analyse the classifier performance\n",
    "\n",
    "confusion_matrix_cv = confusion_matrix(y_train,predictions) #calculate confusion matriz\n",
    "\n",
    "#define functions to calculate precision, recall and f1 score.\n",
    "def precision_score(confusion_mat):\n",
    "    return confusion_matrix_cv[1,1]/(confusion_matrix_cv[1,1]+confusion_matrix_cv[0,1])\n",
    "\n",
    "def recall_score(confusion_matrix_cv):\n",
    "    return confusion_matrix_cv[1,1]/(confusion_matrix_cv[1,1]+confusion_matrix_cv[1,0])\n",
    "\n",
    "def f1_score(confusion_mat):\n",
    "    precision = precision_score(confusion_matrix_cv)\n",
    "    recall = recall_score(confusion_matrix_cv)\n",
    "    return 2*precision*recall/(precision+recall)\n",
    "\n",
    "precision = precision_score(confusion_matrix_cv) #calculate precision of classifier\n",
    "recall = recall_score(confusion_matrix_cv) #calculate recall\n",
    "f1 = f1_score(confusion_matrix_cv) #calculate f1 score\n",
    "\n",
    "print('Confusion matrix:')\n",
    "print(confusion_matrix_cv)\n",
    "print('Precision:', precision)\n",
    "print('Recall:', recall)\n",
    "print('F1-score:', f1)"
   ]
  },
  {
   "cell_type": "code",
   "execution_count": 131,
   "metadata": {},
   "outputs": [
    {
     "data": {
      "image/png": "[encoded data removed]",
      "text/plain": [
       "<Figure size 432x288 with 2 Axes>"
      ]
     },
     "metadata": {
      "needs_background": "light"
     },
     "output_type": "display_data"
    }
   ],
   "source": [
    "labels=['No','Yes']\n",
    "annot_kws = {\"ha\": 'left',\"va\": 'top'}\n",
    "ax = sns.heatmap(confusion_matrix_cv,annot=True,xticklabels=labels, yticklabels=labels)"
   ]
  },
  {
   "cell_type": "markdown",
   "metadata": {},
   "source": [
    "The above metrics are dependent upon the classifier threshold probability. A threshold of 0 means all messages are classified as being __in__ the top 20% and a threshold of 1 means all messages are classified as being __not in__ top 20%. We can calculate the above metrics at different threshold values and plot them against each other in order to visualse the relationship between precision and recall and the FPR and the TPR. These plots are called the precision-recall curve and the receiver operating characteristic. In order to obtrain these curves we need to get the probability that each instance is in the top 20% class from our classifier."
   ]
  },
  {
   "cell_type": "code",
   "execution_count": 132,
   "metadata": {},
   "outputs": [],
   "source": [
    "#Convert the No/Yes strings into integers 0/1.\n",
    "def string_to_int(array):\n",
    "    binary_array = np.zeros(len(array))\n",
    "    ones = np.argwhere(array == 'Yes')\n",
    "    binary_array[ones] = 1\n",
    "    return binary_array.astype(int)\n",
    "\n",
    "#Convert labels into a binary format\n",
    "binary_labels = string_to_int(y_train.values)\n",
    "\n",
    "'''Get the probabilities using cross_val_predict. Setting the\n",
    "method argument to 'predict_proba' makes cross_val_predict\n",
    "return the probability that an instance belongs to each class.'''\n",
    "\n",
    "#Get the probabilities using cross_val_predict\n",
    "train_probabilities = cross_val_predict(pipeline,X_train,y_train,cv=3,method='predict_proba')"
   ]
  },
  {
   "cell_type": "code",
   "execution_count": 133,
   "metadata": {},
   "outputs": [],
   "source": [
    "#Calclate precision, recall, false positive rate and true positive rate\n",
    "precisions, recalls, thresholds = precision_recall_curve(binary_labels,train_probabilities[:,1],pos_label=None)\n",
    "fpr, tpr, thresholds = roc_curve(binary_labels,train_probabilities[:,1],drop_intermediate=True)"
   ]
  },
  {
   "cell_type": "code",
   "execution_count": 134,
   "metadata": {},
   "outputs": [
    {
     "data": {
      "image/png": "[encoded data removed]",
      "text/plain": [
       "<Figure size 720x360 with 2 Axes>"
      ]
     },
     "metadata": {
      "needs_background": "light"
     },
     "output_type": "display_data"
    }
   ],
   "source": [
    "def plot_pr_roc(recalls,precisions,fpr,tpr):\n",
    "    fig, ax = plt.subplots(nrows=1, ncols=2, sharey='row',figsize=(10,5))\n",
    "    ax[0].plot(recalls,precisions)\n",
    "    ax[0].set_ylabel('Precision')\n",
    "    ax[0].set_xlabel('Recall')\n",
    "    ax[0].set_title('Precision-recall curve')\n",
    "    ax[1].plot(fpr,tpr, label='ROC')\n",
    "    ax[1].plot(fpr,fpr,'r--', label='Random guess')\n",
    "    ax[1].set_ylabel('True positive rate')\n",
    "    ax[1].set_xlabel('False positive rate')\n",
    "    ax[1].set_title('Receiver operating characteristic')\n",
    "    ax[1].legend()\n",
    "    plt.tight_layout()\n",
    "    return fig,ax\n",
    "\n",
    "fig,ax = plot_pr_roc(recalls,precisions,fpr,tpr)\n",
    "plt.show()"
   ]
  },
  {
   "cell_type": "code",
   "execution_count": 135,
   "metadata": {},
   "outputs": [
    {
     "name": "stdout",
     "output_type": "stream",
     "text": [
      "Area under PR curve: 0.43229829831067945\n",
      "Area under ROC curve: 0.6993112630258341\n"
     ]
    }
   ],
   "source": [
    "#calculate areas under curves\n",
    "AUC_PRC = auc(recalls,precisions)\n",
    "AUC_ROC = auc(fpr,tpr)\n",
    "print('Area under PR curve:', AUC_PRC)\n",
    "print('Area under ROC curve:', AUC_ROC)"
   ]
  },
  {
   "cell_type": "markdown",
   "metadata": {},
   "source": [
    "### Repeating the experiement using the video titles instead of descriptions"
   ]
  },
  {
   "cell_type": "code",
   "execution_count": 136,
   "metadata": {},
   "outputs": [],
   "source": [
    "#Start with a new dataset\n",
    "gb_music_data = gb_music[['title','Percentile']]\n",
    "\n",
    "#Create train test split\n",
    "X = gb_music_data['title']\n",
    "y = gb_music_data['Percentile']\n",
    "\n",
    "split = StratifiedShuffleSplit(n_splits=1, test_size=0.2, random_state=42)\n",
    "\n",
    "for train_index, test_index in split.split(X, y):\n",
    "    X_train, X_test = X.iloc[train_index], X.iloc[test_index]\n",
    "    y_train, y_test = y.iloc[train_index], y.iloc[test_index]"
   ]
  },
  {
   "cell_type": "code",
   "execution_count": 137,
   "metadata": {},
   "outputs": [],
   "source": [
    "pipeline_title = Pipeline([('vect',CountVectorizer(analyzer=text_normalise)),('nbm',MultinomialNB())]) #create pipeline\n",
    "predictions_title = cross_val_predict(pipeline,X_train,y_train,cv=3) #use cross validated predictions"
   ]
  },
  {
   "cell_type": "code",
   "execution_count": 138,
   "metadata": {},
   "outputs": [
    {
     "name": "stdout",
     "output_type": "stream",
     "text": [
      "Confusion matrix:\n",
      "[[532  28]\n",
      " [111  30]]\n",
      "Precision: 0.589041095890411\n",
      "Recall: 0.2127659574468085\n",
      "F1-score: 0.4018691588785047\n"
     ]
    }
   ],
   "source": [
    "confusion_matrix_cv_title = confusion_matrix(y_train,predictions_title)\n",
    "precision_title = precision_score(confusion_matrix_cv_title)\n",
    "recall_title = recall_score(confusion_matrix_cv_title)\n",
    "f1_title = f1_score(confusion_matrix_cv_title)\n",
    "\n",
    "print('Confusion matrix:')\n",
    "print(confusion_matrix_cv_title)\n",
    "print('Precision:', precision_title)\n",
    "print('Recall:', recall_title)\n",
    "print('F1-score:', f1_title)"
   ]
  },
  {
   "cell_type": "code",
   "execution_count": 139,
   "metadata": {},
   "outputs": [],
   "source": [
    "#Convert labels into a binary format\n",
    "binary_labels = string_to_int(y_train.values)\n",
    "\n",
    "'''Get the probabilities using cross_val_predict. Setting the\n",
    "method argument to 'predict_proba' makes cross_val_predict\n",
    "return the probability that an instance belongs to each class.'''\n",
    "\n",
    "train_probabilities = cross_val_predict(pipeline,X_train,y_train,cv=3,method='predict_proba')"
   ]
  },
  {
   "cell_type": "code",
   "execution_count": 140,
   "metadata": {},
   "outputs": [],
   "source": [
    "precisions_t, recalls_t, thresholds_t = precision_recall_curve(binary_labels,train_probabilities[:,1],pos_label=None)\n",
    "fpr_t, tpr_t, thresholds_t = roc_curve(binary_labels,train_probabilities[:,1],drop_intermediate=True)\n"
   ]
  },
  {
   "cell_type": "code",
   "execution_count": 141,
   "metadata": {},
   "outputs": [
    {
     "data": {
      "image/png": "[encoded data removed]",
      "text/plain": [
       "<Figure size 720x360 with 2 Axes>"
      ]
     },
     "metadata": {
      "needs_background": "light"
     },
     "output_type": "display_data"
    }
   ],
   "source": [
    "fig,ax = plot_pr_roc(recalls_t,precisions_t,fpr_t,tpr_t)\n",
    "plt.show()"
   ]
  },
  {
   "cell_type": "code",
   "execution_count": 142,
   "metadata": {},
   "outputs": [
    {
     "name": "stdout",
     "output_type": "stream",
     "text": [
      "Area under PR curve: 0.36526744028478747\n",
      "Area under ROC curve: 0.64681484295846\n"
     ]
    }
   ],
   "source": [
    "AUC_PRC = auc(recalls_t,precisions_t)\n",
    "AUC_ROC = auc(fpr_t,tpr_t)\n",
    "print('Area under PR curve:', AUC_PRC)\n",
    "print('Area under ROC curve:', AUC_ROC)"
   ]
  },
  {
   "cell_type": "markdown",
   "metadata": {},
   "source": [
    "### Insights and comments"
   ]
  },
  {
   "cell_type": "markdown",
   "metadata": {},
   "source": [
    "First, the perfomance of the classifier is not very good, only marginally better on the training set than on the test set.\n",
    "\n",
    "\n",
    "Notice there is a large dip in precision-recall curve near zero in both cases. To undertand why this happens we can look at the distribution of prediceted probability that a video is in the top 20% of viewed videos."
   ]
  },
  {
   "cell_type": "code",
   "execution_count": 143,
   "metadata": {},
   "outputs": [
    {
     "name": "stdout",
     "output_type": "stream",
     "text": [
      "Mean: 0.17333960549074462\n",
      "Standard deviation: 0.20819496129653325\n"
     ]
    },
    {
     "data": {
      "image/png": "[encoded data removed]",
      "text/plain": [
       "<Figure size 432x288 with 1 Axes>"
      ]
     },
     "metadata": {
      "needs_background": "light"
     },
     "output_type": "display_data"
    }
   ],
   "source": [
    "pos_probabilities = np.asarray([i[1] for i in train_probabilities]) \n",
    "print('Mean:', np.mean(pos_probabilities))\n",
    "print('Standard deviation:', np.std(pos_probabilities))\n",
    "fig = plt.figure()\n",
    "plt.hist(pos_probabilities,bins=50,facecolor='lightblue',ec='darkblue')\n",
    "plt.xlabel('Probability of being classified in top 20%')\n",
    "plt.ylabel('Count')\n",
    "plt.show()"
   ]
  },
  {
   "cell_type": "markdown",
   "metadata": {},
   "source": [
    "Above, we see that most probabilities are near zero, with a __mean of 0.17__ and a __standard deviation of 0.21__. This means when the classifcation threshold moves away from zero, the probability that an instance is in the top 20% will almost always be below the classification threshold and will be classified as not in the top 20%. When almost eveything is classified as being negative (not in top 20%) the number of __true positives is low and so the precision is also low__. Furthermore, the number of __false negatives is high and so recall is low__.\n",
    "\n",
    " - Similar classifier behaviour was obsereved using the tags as text data.\n",
    " - A Random forest classifier was also tried, this had similar poor performance."
   ]
  },
  {
   "cell_type": "markdown",
   "metadata": {},
   "source": [
    "### Conclusions"
   ]
  },
  {
   "cell_type": "markdown",
   "metadata": {},
   "source": [
    " Insights:\n",
    " \n",
    " - From the initial experiements it seems that the text atributes are not useful for directly prediciting the number of views a video receives. \n",
    " - The classifier fails because it find that the probability that a video is in the top 20% is close to zero for every instance.\n",
    " - This leads to a small number of true positives and a large number of false negatives. \n",
    " \n",
    "Potential Improvements:\n",
    "\n",
    " - Improved feature selection. Perhaps principle componant analysis could create new features which explain more of the varience in the data, compared to the text alone. However we may lose intepretability. \n",
    " - Perhaps there is some non-linear relationship between the text and the number of views which could be approximated by a neural network. At this stage however, there is no reason to believe this relationship exists and that neural networks are a 'magic solution'. \n",
    "\n",
    "\n",
    " "
   ]
  },
  {
   "cell_type": "code",
   "execution_count": null,
   "metadata": {},
   "outputs": [],
   "source": []
  }
 ],
 "metadata": {
  "kernelspec": {
   "display_name": "Python 3",
   "language": "python",
   "name": "python3"
  },
  "language_info": {
   "codemirror_mode": {
    "name": "ipython",
    "version": 3
   },
   "file_extension": ".py",
   "mimetype": "text/x-python",
   "name": "python",
   "nbconvert_exporter": "python",
   "pygments_lexer": "ipython3",
   "version": "3.7.4"
  }
 },
 "nbformat": 4,
 "nbformat_minor": 2
}
